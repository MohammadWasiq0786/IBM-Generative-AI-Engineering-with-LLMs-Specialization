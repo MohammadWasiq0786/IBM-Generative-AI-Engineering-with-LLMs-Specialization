{
 "cells": [
  {
   "cell_type": "markdown",
   "metadata": {},
   "source": [
    "<p style=\"text-align:center\">\n",
    "    <a href=\"https://skills.network\" target=\"_blank\">\n",
    "    <img src=\"https://cf-courses-data.s3.us.cloud-object-storage.appdomain.cloud/assets/logos/SN_web_lightmode.png\" width=\"200\" alt=\"Skills Network Logo\"  />\n",
    "    </a>\n",
    "</p>\n"
   ]
  },
  {
   "cell_type": "markdown",
   "metadata": {},
   "source": [
    "# **Embed documents using watsonx's embedding model**\n"
   ]
  },
  {
   "cell_type": "markdown",
   "metadata": {},
   "source": [
    "Estimated time needed: **30** minutes\n"
   ]
  },
  {
   "cell_type": "markdown",
   "metadata": {},
   "source": [
    "## Overview\n"
   ]
  },
  {
   "cell_type": "markdown",
   "metadata": {},
   "source": [
    "Imagine you work in a company that handles a vast amount of text data, including documents, emails, and reports. Your task is to build an intelligent search system that can quickly and accurately retrieve relevant documents based on user queries. Traditional keyword-based search methods often fail to understand the context and semantics of the queries, leading to poor search results.\n",
    "\n",
    "To address this challenge, you can use embedding models to convert documents into numerical vectors. These vectors capture the semantic meaning of the text, enabling more accurate and context-aware search capabilities. Document embedding is a powerful technique to convert textual data into numerical vectors, which can then be used for various downstream tasks such as search, classification, clustering, and more.\n"
   ]
  },
  {
   "cell_type": "markdown",
   "metadata": {},
   "source": [
    "<img src=\"https://cf-courses-data.s3.us.cloud-object-storage.appdomain.cloud/O_XVADBArH0ck4Wf6uuoBA/embeddings.png\" width=\"60%\" alt=\"embeddings\">\n"
   ]
  },
  {
   "cell_type": "markdown",
   "metadata": {},
   "source": [
    "In this lab, you will learn how to use embedding models from watsonx.ai and Hugging Face to embed documents. By the end of this lab, you will be able to effectively use these embedding models to transform and utilize textual data in your projects.\n"
   ]
  },
  {
   "cell_type": "markdown",
   "metadata": {},
   "source": [
    "## __Table of Contents__\n",
    "\n",
    "<ol>\n",
    "    <li><a href=\"#Objectives\">Objectives</a></li>\n",
    "    <li>\n",
    "        <a href=\"#Setup\">Setup</a>\n",
    "        <ol>\n",
    "            <li><a href=\"#Installing-required-ribraries\">Installing required libraries</a></li>\n",
    "            <li><a href=\"#Load-data\">Load data</a></li>\n",
    "            <li><a href=\"#Split data\">Split data</a></li>\n",
    "        </ol>\n",
    "    </li>\n",
    "    <li>\n",
    "        <a href=\"#Watsonx-embedding-model\">Watsonx embedding model</a>\n",
    "        <ol>\n",
    "            <li><a href=\"#Model-description\">Model description</a></li>\n",
    "            <li><a href=\"#Build-model\">Build model</a></li>\n",
    "            <li><a href=\"#Query-embeddings\">Query embeddings</a></li>\n",
    "            <li><a href=\"#Document-embeddings\">Document embeddings</a></li>\n",
    "        </ol>\n",
    "    </li>\n",
    "    <li>\n",
    "        <a href=\"#HuggingFace embedding model\">HuggingFace embedding models</a>\n",
    "        <ol>\n",
    "            <li><a href=\"#Model-description\">Model description</a></li>\n",
    "            <li><a href=\"#Build-model\">Build model</a></li>\n",
    "            <li><a href=\"#Query-embeddings\">Query embeddings</a></li>\n",
    "            <li><a href=\"#Document-embeddings\">Document embeddings</a></li>\n",
    "        </ol>\n",
    "    </li>\n",
    "</ol>\n",
    "\n",
    "<a href=\"#Exercises\">Exercises</a>\n",
    "<ol>\n",
    "    <li><a href=\"#Exercise-1---Using-another-watsonx-embedding-model\">Exercise 1. Using another watsonx embedding model</a></li>\n",
    "</ol>\n"
   ]
  },
  {
   "cell_type": "markdown",
   "metadata": {},
   "source": [
    "## Objectives\n",
    "\n",
    "After completing this lab, you will be able to:\n",
    "\n",
    " - Prepare and preprocess documents for embedding\n",
    " - Use watsonx.ai and Hugging Face embedding models to generate embeddings for your documents\n"
   ]
  },
  {
   "cell_type": "markdown",
   "metadata": {},
   "source": [
    "----\n"
   ]
  },
  {
   "cell_type": "markdown",
   "metadata": {},
   "source": [
    "## Setup\n"
   ]
  },
  {
   "cell_type": "markdown",
   "metadata": {},
   "source": [
    "For this lab, you will use the following libraries:\n",
    "\n",
    "* [`ibm-watson-ai`](https://ibm.github.io/watsonx-ai-python-sdk/fm_embeddings.html#EmbeddingModels) for using embedding models from IBM's watsonx.ai.\n",
    "* [`langchain`, `langchain-ibm`, `langchain-community`](https://www.langchain.com/) for using relevant features from LangChain.\n",
    "* [`sentence-transformers`](https://huggingface.co/sentence-transformers) for using embedding models from HuggingFace.\n"
   ]
  },
  {
   "cell_type": "markdown",
   "metadata": {},
   "source": [
    "### Installing required libraries\n",
    "\n",
    "The following required libraries are __not__ preinstalled in the Skills Network Labs environment. __You need to run the following cell__ to install them:\n",
    "\n",
    "**Note:** The version is being pinned here to specify the version. It's recommended that you do this as well. Even if the library is updated in the future, the installed library could still support this lab work.\n",
    "\n",
    "This might take around 1-2 minutes. \n",
    "\n",
    "As `%%capture` is used to capture the installation, you won't see the output process. But after the installation completes, you will see a number beside the cell.\n"
   ]
  },
  {
   "cell_type": "code",
   "execution_count": 1,
   "metadata": {},
   "outputs": [],
   "source": [
    "%%capture\n",
    "!pip install \"ibm-watsonx-ai==1.1.2\"\n",
    "!pip install \"langchain==0.2.11\"\n",
    "!pip install \"langchain-ibm==0.1.11\"\n",
    "!pip install \"langchain-community==0.2.10\"\n",
    "!pip install \"sentence-transformers==3.0.1\""
   ]
  },
  {
   "cell_type": "markdown",
   "metadata": {},
   "source": [
    "After you install the libraries, restart your kernel. You can do that by clicking the **Restart the kernel** icon.\n",
    "\n",
    "<img src=\"https://cf-courses-data.s3.us.cloud-object-storage.appdomain.cloud/build-a-hotdog-not-hotdog-classifier-guided-project/images/Restarting_the_Kernel.png\" width=\"50%\" alt=\"Restart kernel\">\n"
   ]
  },
  {
   "cell_type": "markdown",
   "metadata": {},
   "source": [
    "## Load data\n"
   ]
  },
  {
   "cell_type": "markdown",
   "metadata": {},
   "source": [
    "A text file has been prepared as the source document for the downstream embedding task.\n",
    "\n",
    "Now, let's download and load it using LangChain's `TextLoader`.\n"
   ]
  },
  {
   "cell_type": "code",
   "execution_count": 2,
   "metadata": {},
   "outputs": [
    {
     "name": "stdout",
     "output_type": "stream",
     "text": [
      "--2024-10-10 10:03:10--  https://cf-courses-data.s3.us.cloud-object-storage.appdomain.cloud/i5V3ACEyz6hnYpVq6MTSvg/state-of-the-union.txt\n",
      "Resolving cf-courses-data.s3.us.cloud-object-storage.appdomain.cloud (cf-courses-data.s3.us.cloud-object-storage.appdomain.cloud)... 169.63.118.104, 169.63.118.104\n",
      "Connecting to cf-courses-data.s3.us.cloud-object-storage.appdomain.cloud (cf-courses-data.s3.us.cloud-object-storage.appdomain.cloud)|169.63.118.104|:443... connected.\n",
      "HTTP request sent, awaiting response... 200 OK\n",
      "Length: 39027 (38K) [text/plain]\n",
      "Saving to: ‘state-of-the-union.txt.1’\n",
      "\n",
      "state-of-the-union. 100%[===================>]  38.11K  --.-KB/s    in 0.001s  \n",
      "\n",
      "2024-10-10 10:03:11 (43.1 MB/s) - ‘state-of-the-union.txt.1’ saved [39027/39027]\n",
      "\n"
     ]
    }
   ],
   "source": [
    "!wget \"https://cf-courses-data.s3.us.cloud-object-storage.appdomain.cloud/i5V3ACEyz6hnYpVq6MTSvg/state-of-the-union.txt\""
   ]
  },
  {
   "cell_type": "code",
   "execution_count": 3,
   "metadata": {},
   "outputs": [],
   "source": [
    "from langchain_community.document_loaders import TextLoader"
   ]
  },
  {
   "cell_type": "code",
   "execution_count": 4,
   "metadata": {},
   "outputs": [],
   "source": [
    "loader = TextLoader(\"state-of-the-union.txt\")\n",
    "data = loader.load()"
   ]
  },
  {
   "cell_type": "markdown",
   "metadata": {},
   "source": [
    "Let's take a look at the document.\n"
   ]
  },
  {
   "cell_type": "code",
   "execution_count": 5,
   "metadata": {},
   "outputs": [
    {
     "data": {
      "text/plain": [
       "[Document(metadata={'source': 'state-of-the-union.txt'}, page_content='Madam Speaker, Madam Vice President, our First Lady and Second Gentleman. Members of Congress and the Cabinet. Justices of the Supreme Court. My fellow Americans.  \\n\\nLast year COVID-19 kept us apart. This year we are finally together again. \\n\\nTonight, we meet as Democrats Republicans and Independents. But most importantly as Americans. \\n\\nWith a duty to one another to the American people to the Constitution. \\n\\nAnd with an unwavering resolve that freedom will always triumph over tyranny. \\n\\nSix days ago, Russia’s Vladimir Putin sought to shake the foundations of the free world thinking he could make it bend to his menacing ways. But he badly miscalculated. \\n\\nHe thought he could roll into Ukraine and the world would roll over. Instead he met a wall of strength he never imagined. \\n\\nHe met the Ukrainian people. \\n\\nFrom President Zelenskyy to every Ukrainian, their fearlessness, their courage, their determination, inspires the world. \\n\\nGroups of citizens blocking tanks with their bodies. Everyone from students to retirees teachers turned soldiers defending their homeland. \\n\\nIn this struggle as President Zelenskyy said in his speech to the European Parliament “Light will win over darkness.” The Ukrainian Ambassador to the United States is here tonight. \\n\\nLet each of us here tonight in this Chamber send an unmistakable signal to Ukraine and to the world. \\n\\nPlease rise if you are able and show that, Yes, we the United States of America stand with the Ukrainian people. \\n\\nThroughout our history we’ve learned this lesson when dictators do not pay a price for their aggression they cause more chaos.   \\n\\nThey keep moving.   \\n\\nAnd the costs and the threats to America and the world keep rising.   \\n\\nThat’s why the NATO Alliance was created to secure peace and stability in Europe after World War 2. \\n\\nThe United States is a member along with 29 other nations. \\n\\nIt matters. American diplomacy matters. American resolve matters. \\n\\nPutin’s latest attack on Ukraine was premeditated and unprovoked. \\n\\nHe rejected repeated efforts at diplomacy. \\n\\nHe thought the West and NATO wouldn’t respond. And he thought he could divide us at home. Putin was wrong. We were ready.  Here is what we did.   \\n\\nWe prepared extensively and carefully. \\n\\nWe spent months building a coalition of other freedom-loving nations from Europe and the Americas to Asia and Africa to confront Putin. \\n\\nI spent countless hours unifying our European allies. We shared with the world in advance what we knew Putin was planning and precisely how he would try to falsely justify his aggression.  \\n\\nWe countered Russia’s lies with truth.   \\n\\nAnd now that he has acted the free world is holding him accountable. \\n\\nAlong with twenty-seven members of the European Union including France, Germany, Italy, as well as countries like the United Kingdom, Canada, Japan, Korea, Australia, New Zealand, and many others, even Switzerland. \\n\\nWe are inflicting pain on Russia and supporting the people of Ukraine. Putin is now isolated from the world more than ever. \\n\\nTogether with our allies –we are right now enforcing powerful economic sanctions. \\n\\nWe are cutting off Russia’s largest banks from the international financial system.  \\n\\nPreventing Russia’s central bank from defending the Russian Ruble making Putin’s $630 Billion “war fund” worthless.   \\n\\nWe are choking off Russia’s access to technology that will sap its economic strength and weaken its military for years to come.  \\n\\nTonight I say to the Russian oligarchs and corrupt leaders who have bilked billions of dollars off this violent regime no more. \\n\\nThe U.S. Department of Justice is assembling a dedicated task force to go after the crimes of Russian oligarchs.  \\n\\nWe are joining with our European allies to find and seize your yachts your luxury apartments your private jets. We are coming for your ill-begotten gains. \\n\\nAnd tonight I am announcing that we will join our allies in closing off American air space to all Russian flights – further isolating Russia – and adding an additional squeeze –on their economy. The Ruble has lost 30% of its value. \\n\\nThe Russian stock market has lost 40% of its value and trading remains suspended. Russia’s economy is reeling and Putin alone is to blame. \\n\\nTogether with our allies we are providing support to the Ukrainians in their fight for freedom. Military assistance. Economic assistance. Humanitarian assistance. \\n\\nWe are giving more than $1 Billion in direct assistance to Ukraine. \\n\\nAnd we will continue to aid the Ukrainian people as they defend their country and to help ease their suffering.  \\n\\nLet me be clear, our forces are not engaged and will not engage in conflict with Russian forces in Ukraine.  \\n\\nOur forces are not going to Europe to fight in Ukraine, but to defend our NATO Allies – in the event that Putin decides to keep moving west.  \\n\\nFor that purpose we’ve mobilized American ground forces, air squadrons, and ship deployments to protect NATO countries including Poland, Romania, Latvia, Lithuania, and Estonia. \\n\\nAs I have made crystal clear the United States and our Allies will defend every inch of territory of NATO countries with the full force of our collective power.  \\n\\nAnd we remain clear-eyed. The Ukrainians are fighting back with pure courage. But the next few days weeks, months, will be hard on them.  \\n\\nPutin has unleashed violence and chaos.  But while he may make gains on the battlefield – he will pay a continuing high price over the long run. \\n\\nAnd a proud Ukrainian people, who have known 30 years  of independence, have repeatedly shown that they will not tolerate anyone who tries to take their country backwards.  \\n\\nTo all Americans, I will be honest with you, as I’ve always promised. A Russian dictator, invading a foreign country, has costs around the world. \\n\\nAnd I’m taking robust action to make sure the pain of our sanctions  is targeted at Russia’s economy. And I will use every tool at our disposal to protect American businesses and consumers. \\n\\nTonight, I can announce that the United States has worked with 30 other countries to release 60 Million barrels of oil from reserves around the world.  \\n\\nAmerica will lead that effort, releasing 30 Million barrels from our own Strategic Petroleum Reserve. And we stand ready to do more if necessary, unified with our allies.  \\n\\nThese steps will help blunt gas prices here at home. And I know the news about what’s happening can seem alarming. \\n\\nBut I want you to know that we are going to be okay. \\n\\nWhen the history of this era is written Putin’s war on Ukraine will have left Russia weaker and the rest of the world stronger. \\n\\nWhile it shouldn’t have taken something so terrible for people around the world to see what’s at stake now everyone sees it clearly. \\n\\nWe see the unity among leaders of nations and a more unified Europe a more unified West. And we see unity among the people who are gathering in cities in large crowds around the world even in Russia to demonstrate their support for Ukraine.  \\n\\nIn the battle between democracy and autocracy, democracies are rising to the moment, and the world is clearly choosing the side of peace and security. \\n\\nThis is a real test. It’s going to take time. So let us continue to draw inspiration from the iron will of the Ukrainian people. \\n\\nTo our fellow Ukrainian Americans who forge a deep bond that connects our two nations we stand with you. \\n\\nPutin may circle Kyiv with tanks, but he will never gain the hearts and souls of the Ukrainian people. \\n\\nHe will never extinguish their love of freedom. He will never weaken the resolve of the free world. \\n\\nWe meet tonight in an America that has lived through two of the hardest years this nation has ever faced. \\n\\nThe pandemic has been punishing. \\n\\nAnd so many families are living paycheck to paycheck, struggling to keep up with the rising cost of food, gas, housing, and so much more. \\n\\nI understand. \\n\\nI remember when my Dad had to leave our home in Scranton, Pennsylvania to find work. I grew up in a family where if the price of food went up, you felt it. \\n\\nThat’s why one of the first things I did as President was fight to pass the American Rescue Plan.  \\n\\nBecause people were hurting. We needed to act, and we did. \\n\\nFew pieces of legislation have done more in a critical moment in our history to lift us out of crisis. \\n\\nIt fueled our efforts to vaccinate the nation and combat COVID-19. It delivered immediate economic relief for tens of millions of Americans.  \\n\\nHelped put food on their table, keep a roof over their heads, and cut the cost of health insurance. \\n\\nAnd as my Dad used to say, it gave people a little breathing room. \\n\\nAnd unlike the $2 Trillion tax cut passed in the previous administration that benefitted the top 1% of Americans, the American Rescue Plan helped working people—and left no one behind. \\n\\nAnd it worked. It created jobs. Lots of jobs. \\n\\nIn fact—our economy created over 6.5 Million new jobs just last year, more jobs created in one year  \\nthan ever before in the history of America. \\n\\nOur economy grew at a rate of 5.7% last year, the strongest growth in nearly 40 years, the first step in bringing fundamental change to an economy that hasn’t worked for the working people of this nation for too long.  \\n\\nFor the past 40 years we were told that if we gave tax breaks to those at the very top, the benefits would trickle down to everyone else. \\n\\nBut that trickle-down theory led to weaker economic growth, lower wages, bigger deficits, and the widest gap between those at the top and everyone else in nearly a century. \\n\\nVice President Harris and I ran for office with a new economic vision for America. \\n\\nInvest in America. Educate Americans. Grow the workforce. Build the economy from the bottom up  \\nand the middle out, not from the top down.  \\n\\nBecause we know that when the middle class grows, the poor have a ladder up and the wealthy do very well. \\n\\nAmerica used to have the best roads, bridges, and airports on Earth. \\n\\nNow our infrastructure is ranked 13th in the world. \\n\\nWe won’t be able to compete for the jobs of the 21st Century if we don’t fix that. \\n\\nThat’s why it was so important to pass the Bipartisan Infrastructure Law—the most sweeping investment to rebuild America in history. \\n\\nThis was a bipartisan effort, and I want to thank the members of both parties who worked to make it happen. \\n\\nWe’re done talking about infrastructure weeks. \\n\\nWe’re going to have an infrastructure decade. \\n\\nIt is going to transform America and put us on a path to win the economic competition of the 21st Century that we face with the rest of the world—particularly with China.  \\n\\nAs I’ve told Xi Jinping, it is never a good bet to bet against the American people. \\n\\nWe’ll create good jobs for millions of Americans, modernizing roads, airports, ports, and waterways all across America. \\n\\nAnd we’ll do it all to withstand the devastating effects of the climate crisis and promote environmental justice. \\n\\nWe’ll build a national network of 500,000 electric vehicle charging stations, begin to replace poisonous lead pipes—so every child—and every American—has clean water to drink at home and at school, provide affordable high-speed internet for every American—urban, suburban, rural, and tribal communities. \\n\\n4,000 projects have already been announced. \\n\\nAnd tonight, I’m announcing that this year we will start fixing over 65,000 miles of highway and 1,500 bridges in disrepair. \\n\\nWhen we use taxpayer dollars to rebuild America – we are going to Buy American: buy American products to support American jobs. \\n\\nThe federal government spends about $600 Billion a year to keep the country safe and secure. \\n\\nThere’s been a law on the books for almost a century \\nto make sure taxpayers’ dollars support American jobs and businesses. \\n\\nEvery Administration says they’ll do it, but we are actually doing it. \\n\\nWe will buy American to make sure everything from the deck of an aircraft carrier to the steel on highway guardrails are made in America. \\n\\nBut to compete for the best jobs of the future, we also need to level the playing field with China and other competitors. \\n\\nThat’s why it is so important to pass the Bipartisan Innovation Act sitting in Congress that will make record investments in emerging technologies and American manufacturing. \\n\\nLet me give you one example of why it’s so important to pass it. \\n\\nIf you travel 20 miles east of Columbus, Ohio, you’ll find 1,000 empty acres of land. \\n\\nIt won’t look like much, but if you stop and look closely, you’ll see a “Field of dreams,” the ground on which America’s future will be built. \\n\\nThis is where Intel, the American company that helped build Silicon Valley, is going to build its $20 billion semiconductor “mega site”. \\n\\nUp to eight state-of-the-art factories in one place. 10,000 new good-paying jobs. \\n\\nSome of the most sophisticated manufacturing in the world to make computer chips the size of a fingertip that power the world and our everyday lives. \\n\\nSmartphones. The Internet. Technology we have yet to invent. \\n\\nBut that’s just the beginning. \\n\\nIntel’s CEO, Pat Gelsinger, who is here tonight, told me they are ready to increase their investment from  \\n$20 billion to $100 billion. \\n\\nThat would be one of the biggest investments in manufacturing in American history. \\n\\nAnd all they’re waiting for is for you to pass this bill. \\n\\nSo let’s not wait any longer. Send it to my desk. I’ll sign it.  \\n\\nAnd we will really take off. \\n\\nAnd Intel is not alone. \\n\\nThere’s something happening in America. \\n\\nJust look around and you’ll see an amazing story. \\n\\nThe rebirth of the pride that comes from stamping products “Made In America.” The revitalization of American manufacturing.   \\n\\nCompanies are choosing to build new factories here, when just a few years ago, they would have built them overseas. \\n\\nThat’s what is happening. Ford is investing $11 billion to build electric vehicles, creating 11,000 jobs across the country. \\n\\nGM is making the largest investment in its history—$7 billion to build electric vehicles, creating 4,000 jobs in Michigan. \\n\\nAll told, we created 369,000 new manufacturing jobs in America just last year. \\n\\nPowered by people I’ve met like JoJo Burgess, from generations of union steelworkers from Pittsburgh, who’s here with us tonight. \\n\\nAs Ohio Senator Sherrod Brown says, “It’s time to bury the label “Rust Belt.” \\n\\nIt’s time. \\n\\nBut with all the bright spots in our economy, record job growth and higher wages, too many families are struggling to keep up with the bills.  \\n\\nInflation is robbing them of the gains they might otherwise feel. \\n\\nI get it. That’s why my top priority is getting prices under control. \\n\\nLook, our economy roared back faster than most predicted, but the pandemic meant that businesses had a hard time hiring enough workers to keep up production in their factories. \\n\\nThe pandemic also disrupted global supply chains. \\n\\nWhen factories close, it takes longer to make goods and get them from the warehouse to the store, and prices go up. \\n\\nLook at cars. \\n\\nLast year, there weren’t enough semiconductors to make all the cars that people wanted to buy. \\n\\nAnd guess what, prices of automobiles went up. \\n\\nSo—we have a choice. \\n\\nOne way to fight inflation is to drive down wages and make Americans poorer.  \\n\\nI have a better plan to fight inflation. \\n\\nLower your costs, not your wages. \\n\\nMake more cars and semiconductors in America. \\n\\nMore infrastructure and innovation in America. \\n\\nMore goods moving faster and cheaper in America. \\n\\nMore jobs where you can earn a good living in America. \\n\\nAnd instead of relying on foreign supply chains, let’s make it in America. \\n\\nEconomists call it “increasing the productive capacity of our economy.” \\n\\nI call it building a better America. \\n\\nMy plan to fight inflation will lower your costs and lower the deficit. \\n\\n17 Nobel laureates in economics say my plan will ease long-term inflationary pressures. Top business leaders and most Americans support my plan. And here’s the plan: \\n\\nFirst – cut the cost of prescription drugs. Just look at insulin. One in ten Americans has diabetes. In Virginia, I met a 13-year-old boy named Joshua Davis.  \\n\\nHe and his Dad both have Type 1 diabetes, which means they need insulin every day. Insulin costs about $10 a vial to make.  \\n\\nBut drug companies charge families like Joshua and his Dad up to 30 times more. I spoke with Joshua’s mom. \\n\\nImagine what it’s like to look at your child who needs insulin and have no idea how you’re going to pay for it.  \\n\\nWhat it does to your dignity, your ability to look your child in the eye, to be the parent you expect to be. \\n\\nJoshua is here with us tonight. Yesterday was his birthday. Happy birthday, buddy.  \\n\\nFor Joshua, and for the 200,000 other young people with Type 1 diabetes, let’s cap the cost of insulin at $35 a month so everyone can afford it.  \\n\\nDrug companies will still do very well. And while we’re at it let Medicare negotiate lower prices for prescription drugs, like the VA already does. \\n\\nLook, the American Rescue Plan is helping millions of families on Affordable Care Act plans save $2,400 a year on their health care premiums. Let’s close the coverage gap and make those savings permanent. \\n\\nSecond – cut energy costs for families an average of $500 a year by combatting climate change.  \\n\\nLet’s provide investments and tax credits to weatherize your homes and businesses to be energy efficient and you get a tax credit; double America’s clean energy production in solar, wind, and so much more;  lower the price of electric vehicles, saving you another $80 a month because you’ll never have to pay at the gas pump again. \\n\\nThird – cut the cost of child care. Many families pay up to $14,000 a year for child care per child.  \\n\\nMiddle-class and working families shouldn’t have to pay more than 7% of their income for care of young children.  \\n\\nMy plan will cut the cost in half for most families and help parents, including millions of women, who left the workforce during the pandemic because they couldn’t afford child care, to be able to get back to work. \\n\\nMy plan doesn’t stop there. It also includes home and long-term care. More affordable housing. And Pre-K for every 3- and 4-year-old.  \\n\\nAll of these will lower costs. \\n\\nAnd under my plan, nobody earning less than $400,000 a year will pay an additional penny in new taxes. Nobody.  \\n\\nThe one thing all Americans agree on is that the tax system is not fair. We have to fix it.  \\n\\nI’m not looking to punish anyone. But let’s make sure corporations and the wealthiest Americans start paying their fair share. \\n\\nJust last year, 55 Fortune 500 corporations earned $40 billion in profits and paid zero dollars in federal income tax.  \\n\\nThat’s simply not fair. That’s why I’ve proposed a 15% minimum tax rate for corporations. \\n\\nWe got more than 130 countries to agree on a global minimum tax rate so companies can’t get out of paying their taxes at home by shipping jobs and factories overseas. \\n\\nThat’s why I’ve proposed closing loopholes so the very wealthy don’t pay a lower tax rate than a teacher or a firefighter.  \\n\\nSo that’s my plan. It will grow the economy and lower costs for families. \\n\\nSo what are we waiting for? Let’s get this done. And while you’re at it, confirm my nominees to the Federal Reserve, which plays a critical role in fighting inflation.  \\n\\nMy plan will not only lower costs to give families a fair shot, it will lower the deficit. \\n\\nThe previous Administration not only ballooned the deficit with tax cuts for the very wealthy and corporations, it undermined the watchdogs whose job was to keep pandemic relief funds from being wasted. \\n\\nBut in my administration, the watchdogs have been welcomed back. \\n\\nWe’re going after the criminals who stole billions in relief money meant for small businesses and millions of Americans.  \\n\\nAnd tonight, I’m announcing that the Justice Department will name a chief prosecutor for pandemic fraud. \\n\\nBy the end of this year, the deficit will be down to less than half what it was before I took office.  \\n\\nThe only president ever to cut the deficit by more than one trillion dollars in a single year. \\n\\nLowering your costs also means demanding more competition. \\n\\nI’m a capitalist, but capitalism without competition isn’t capitalism. \\n\\nIt’s exploitation—and it drives up prices. \\n\\nWhen corporations don’t have to compete, their profits go up, your prices go up, and small businesses and family farmers and ranchers go under. \\n\\nWe see it happening with ocean carriers moving goods in and out of America. \\n\\nDuring the pandemic, these foreign-owned companies raised prices by as much as 1,000% and made record profits. \\n\\nTonight, I’m announcing a crackdown on these companies overcharging American businesses and consumers. \\n\\nAnd as Wall Street firms take over more nursing homes, quality in those homes has gone down and costs have gone up.  \\n\\nThat ends on my watch. \\n\\nMedicare is going to set higher standards for nursing homes and make sure your loved ones get the care they deserve and expect. \\n\\nWe’ll also cut costs and keep the economy going strong by giving workers a fair shot, provide more training and apprenticeships, hire them based on their skills not degrees. \\n\\nLet’s pass the Paycheck Fairness Act and paid leave.  \\n\\nRaise the minimum wage to $15 an hour and extend the Child Tax Credit, so no one has to raise a family in poverty. \\n\\nLet’s increase Pell Grants and increase our historic support of HBCUs, and invest in what Jill—our First Lady who teaches full-time—calls America’s best-kept secret: community colleges. \\n\\nAnd let’s pass the PRO Act when a majority of workers want to form a union—they shouldn’t be stopped.  \\n\\nWhen we invest in our workers, when we build the economy from the bottom up and the middle out together, we can do something we haven’t done in a long time: build a better America. \\n\\nFor more than two years, COVID-19 has impacted every decision in our lives and the life of the nation. \\n\\nAnd I know you’re tired, frustrated, and exhausted. \\n\\nBut I also know this. \\n\\nBecause of the progress we’ve made, because of your resilience and the tools we have, tonight I can say  \\nwe are moving forward safely, back to more normal routines.  \\n\\nWe’ve reached a new moment in the fight against COVID-19, with severe cases down to a level not seen since last July.  \\n\\nJust a few days ago, the Centers for Disease Control and Prevention—the CDC—issued new mask guidelines. \\n\\nUnder these new guidelines, most Americans in most of the country can now be mask free.   \\n\\nAnd based on the projections, more of the country will reach that point across the next couple of weeks. \\n\\nThanks to the progress we have made this past year, COVID-19 need no longer control our lives.  \\n\\nI know some are talking about “living with COVID-19”. Tonight – I say that we will never just accept living with COVID-19. \\n\\nWe will continue to combat the virus as we do other diseases. And because this is a virus that mutates and spreads, we will stay on guard. \\n\\nHere are four common sense steps as we move forward safely.  \\n\\nFirst, stay protected with vaccines and treatments. We know how incredibly effective vaccines are. If you’re vaccinated and boosted you have the highest degree of protection. \\n\\nWe will never give up on vaccinating more Americans. Now, I know parents with kids under 5 are eager to see a vaccine authorized for their children. \\n\\nThe scientists are working hard to get that done and we’ll be ready with plenty of vaccines when they do. \\n\\nWe’re also ready with anti-viral treatments. If you get COVID-19, the Pfizer pill reduces your chances of ending up in the hospital by 90%.  \\n\\nWe’ve ordered more of these pills than anyone in the world. And Pfizer is working overtime to get us 1 Million pills this month and more than double that next month.  \\n\\nAnd we’re launching the “Test to Treat” initiative so people can get tested at a pharmacy, and if they’re positive, receive antiviral pills on the spot at no cost.  \\n\\nIf you’re immunocompromised or have some other vulnerability, we have treatments and free high-quality masks. \\n\\nWe’re leaving no one behind or ignoring anyone’s needs as we move forward. \\n\\nAnd on testing, we have made hundreds of millions of tests available for you to order for free.   \\n\\nEven if you already ordered free tests tonight, I am announcing that you can order more from covidtests.gov starting next week. \\n\\nSecond – we must prepare for new variants. Over the past year, we’ve gotten much better at detecting new variants. \\n\\nIf necessary, we’ll be able to deploy new vaccines within 100 days instead of many more months or years.  \\n\\nAnd, if Congress provides the funds we need, we’ll have new stockpiles of tests, masks, and pills ready if needed. \\n\\nI cannot promise a new variant won’t come. But I can promise you we’ll do everything within our power to be ready if it does.  \\n\\nThird – we can end the shutdown of schools and businesses. We have the tools we need. \\n\\nIt’s time for Americans to get back to work and fill our great downtowns again.  People working from home can feel safe to begin to return to the office.   \\n\\nWe’re doing that here in the federal government. The vast majority of federal workers will once again work in person. \\n\\nOur schools are open. Let’s keep it that way. Our kids need to be in school. \\n\\nAnd with 75% of adult Americans fully vaccinated and hospitalizations down by 77%, most Americans can remove their masks, return to work, stay in the classroom, and move forward safely. \\n\\nWe achieved this because we provided free vaccines, treatments, tests, and masks. \\n\\nOf course, continuing this costs money. \\n\\nI will soon send Congress a request. \\n\\nThe vast majority of Americans have used these tools and may want to again, so I expect Congress to pass it quickly.   \\n\\nFourth, we will continue vaccinating the world.     \\n\\nWe’ve sent 475 Million vaccine doses to 112 countries, more than any other nation. \\n\\nAnd we won’t stop. \\n\\nWe have lost so much to COVID-19. Time with one another. And worst of all, so much loss of life. \\n\\nLet’s use this moment to reset. Let’s stop looking at COVID-19 as a partisan dividing line and see it for what it is: A God-awful disease.  \\n\\nLet’s stop seeing each other as enemies, and start seeing each other for who we really are: Fellow Americans.  \\n\\nWe can’t change how divided we’ve been. But we can change how we move forward—on COVID-19 and other issues we must face together. \\n\\nI recently visited the New York City Police Department days after the funerals of Officer Wilbert Mora and his partner, Officer Jason Rivera. \\n\\nThey were responding to a 9-1-1 call when a man shot and killed them with a stolen gun. \\n\\nOfficer Mora was 27 years old. \\n\\nOfficer Rivera was 22. \\n\\nBoth Dominican Americans who’d grown up on the same streets they later chose to patrol as police officers. \\n\\nI spoke with their families and told them that we are forever in debt for their sacrifice, and we will carry on their mission to restore the trust and safety every community deserves. \\n\\nI’ve worked on these issues a long time. \\n\\nI know what works: Investing in crime preventionand community police officers who’ll walk the beat, who’ll know the neighborhood, and who can restore trust and safety. \\n\\nSo let’s not abandon our streets. Or choose between safety and equal justice. \\n\\nLet’s come together to protect our communities, restore trust, and hold law enforcement accountable. \\n\\nThat’s why the Justice Department required body cameras, banned chokeholds, and restricted no-knock warrants for its officers. \\n\\nThat’s why the American Rescue Plan provided $350 Billion that cities, states, and counties can use to hire more police and invest in proven strategies like community violence interruption—trusted messengers breaking the cycle of violence and trauma and giving young people hope.  \\n\\nWe should all agree: The answer is not to Defund the police. The answer is to FUND the police with the resources and training they need to protect our communities. \\n\\nI ask Democrats and Republicans alike: Pass my budget and keep our neighborhoods safe.  \\n\\nAnd I will keep doing everything in my power to crack down on gun trafficking and ghost guns you can buy online and make at home—they have no serial numbers and can’t be traced. \\n\\nAnd I ask Congress to pass proven measures to reduce gun violence. Pass universal background checks. Why should anyone on a terrorist list be able to purchase a weapon? \\n\\nBan assault weapons and high-capacity magazines. \\n\\nRepeal the liability shield that makes gun manufacturers the only industry in America that can’t be sued. \\n\\nThese laws don’t infringe on the Second Amendment. They save lives. \\n\\nThe most fundamental right in America is the right to vote – and to have it counted. And it’s under assault. \\n\\nIn state after state, new laws have been passed, not only to suppress the vote, but to subvert entire elections. \\n\\nWe cannot let this happen. \\n\\nTonight. I call on the Senate to: Pass the Freedom to Vote Act. Pass the John Lewis Voting Rights Act. And while you’re at it, pass the Disclose Act so Americans can know who is funding our elections. \\n\\nTonight, I’d like to honor someone who has dedicated his life to serve this country: Justice Stephen Breyer—an Army veteran, Constitutional scholar, and retiring Justice of the United States Supreme Court. Justice Breyer, thank you for your service. \\n\\nOne of the most serious constitutional responsibilities a President has is nominating someone to serve on the United States Supreme Court. \\n\\nAnd I did that 4 days ago, when I nominated Circuit Court of Appeals Judge Ketanji Brown Jackson. One of our nation’s top legal minds, who will continue Justice Breyer’s legacy of excellence. \\n\\nA former top litigator in private practice. A former federal public defender. And from a family of public school educators and police officers. A consensus builder. Since she’s been nominated, she’s received a broad range of support—from the Fraternal Order of Police to former judges appointed by Democrats and Republicans. \\n\\nAnd if we are to advance liberty and justice, we need to secure the Border and fix the immigration system. \\n\\nWe can do both. At our border, we’ve installed new technology like cutting-edge scanners to better detect drug smuggling.  \\n\\nWe’ve set up joint patrols with Mexico and Guatemala to catch more human traffickers.  \\n\\nWe’re putting in place dedicated immigration judges so families fleeing persecution and violence can have their cases heard faster. \\n\\nWe’re securing commitments and supporting partners in South and Central America to host more refugees and secure their own borders. \\n\\nWe can do all this while keeping lit the torch of liberty that has led generations of immigrants to this land—my forefathers and so many of yours. \\n\\nProvide a pathway to citizenship for Dreamers, those on temporary status, farm workers, and essential workers. \\n\\nRevise our laws so businesses have the workers they need and families don’t wait decades to reunite. \\n\\nIt’s not only the right thing to do—it’s the economically smart thing to do. \\n\\nThat’s why immigration reform is supported by everyone from labor unions to religious leaders to the U.S. Chamber of Commerce. \\n\\nLet’s get it done once and for all. \\n\\nAdvancing liberty and justice also requires protecting the rights of women. \\n\\nThe constitutional right affirmed in Roe v. Wade—standing precedent for half a century—is under attack as never before. \\n\\nIf we want to go forward—not backward—we must protect access to health care. Preserve a woman’s right to choose. And let’s continue to advance maternal health care in America. \\n\\nAnd for our LGBTQ+ Americans, let’s finally get the bipartisan Equality Act to my desk. The onslaught of state laws targeting transgender Americans and their families is wrong. \\n\\nAs I said last year, especially to our younger transgender Americans, I will always have your back as your President, so you can be yourself and reach your God-given potential. \\n\\nWhile it often appears that we never agree, that isn’t true. I signed 80 bipartisan bills into law last year. From preventing government shutdowns to protecting Asian-Americans from still-too-common hate crimes to reforming military justice. \\n\\nAnd soon, we’ll strengthen the Violence Against Women Act that I first wrote three decades ago. It is important for us to show the nation that we can come together and do big things. \\n\\nSo tonight I’m offering a Unity Agenda for the Nation. Four big things we can do together.  \\n\\nFirst, beat the opioid epidemic. \\n\\nThere is so much we can do. Increase funding for prevention, treatment, harm reduction, and recovery.  \\n\\nGet rid of outdated rules that stop doctors from prescribing treatments. And stop the flow of illicit drugs by working with state and local law enforcement to go after traffickers. \\n\\nIf you’re suffering from addiction, know you are not alone. I believe in recovery, and I celebrate the 23 million Americans in recovery. \\n\\nSecond, let’s take on mental health. Especially among our children, whose lives and education have been turned upside down.  \\n\\nThe American Rescue Plan gave schools money to hire teachers and help students make up for lost learning.  \\n\\nI urge every parent to make sure your school does just that. And we can all play a part—sign up to be a tutor or a mentor. \\n\\nChildren were also struggling before the pandemic. Bullying, violence, trauma, and the harms of social media. \\n\\nAs Frances Haugen, who is here with us tonight, has shown, we must hold social media platforms accountable for the national experiment they’re conducting on our children for profit. \\n\\nIt’s time to strengthen privacy protections, ban targeted advertising to children, demand tech companies stop collecting personal data on our children. \\n\\nAnd let’s get all Americans the mental health services they need. More people they can turn to for help, and full parity between physical and mental health care. \\n\\nThird, support our veterans. \\n\\nVeterans are the best of us. \\n\\nI’ve always believed that we have a sacred obligation to equip all those we send to war and care for them and their families when they come home. \\n\\nMy administration is providing assistance with job training and housing, and now helping lower-income veterans get VA care debt-free.  \\n\\nOur troops in Iraq and Afghanistan faced many dangers. \\n\\nOne was stationed at bases and breathing in toxic smoke from “burn pits” that incinerated wastes of war—medical and hazard material, jet fuel, and more. \\n\\nWhen they came home, many of the world’s fittest and best trained warriors were never the same. \\n\\nHeadaches. Numbness. Dizziness. \\n\\nA cancer that would put them in a flag-draped coffin. \\n\\nI know. \\n\\nOne of those soldiers was my son Major Beau Biden. \\n\\nWe don’t know for sure if a burn pit was the cause of his brain cancer, or the diseases of so many of our troops. \\n\\nBut I’m committed to finding out everything we can. \\n\\nCommitted to military families like Danielle Robinson from Ohio. \\n\\nThe widow of Sergeant First Class Heath Robinson.  \\n\\nHe was born a soldier. Army National Guard. Combat medic in Kosovo and Iraq. \\n\\nStationed near Baghdad, just yards from burn pits the size of football fields. \\n\\nHeath’s widow Danielle is here with us tonight. They loved going to Ohio State football games. He loved building Legos with their daughter. \\n\\nBut cancer from prolonged exposure to burn pits ravaged Heath’s lungs and body. \\n\\nDanielle says Heath was a fighter to the very end. \\n\\nHe didn’t know how to stop fighting, and neither did she. \\n\\nThrough her pain she found purpose to demand we do better. \\n\\nTonight, Danielle—we are. \\n\\nThe VA is pioneering new ways of linking toxic exposures to diseases, already helping more veterans get benefits. \\n\\nAnd tonight, I’m announcing we’re expanding eligibility to veterans suffering from nine respiratory cancers. \\n\\nI’m also calling on Congress: pass a law to make sure veterans devastated by toxic exposures in Iraq and Afghanistan finally get the benefits and comprehensive health care they deserve. \\n\\nAnd fourth, let’s end cancer as we know it. \\n\\nThis is personal to me and Jill, to Kamala, and to so many of you. \\n\\nCancer is the #2 cause of death in America–second only to heart disease. \\n\\nLast month, I announced our plan to supercharge  \\nthe Cancer Moonshot that President Obama asked me to lead six years ago. \\n\\nOur goal is to cut the cancer death rate by at least 50% over the next 25 years, turn more cancers from death sentences into treatable diseases.  \\n\\nMore support for patients and families. \\n\\nTo get there, I call on Congress to fund ARPA-H, the Advanced Research Projects Agency for Health. \\n\\nIt’s based on DARPA—the Defense Department project that led to the Internet, GPS, and so much more.  \\n\\nARPA-H will have a singular purpose—to drive breakthroughs in cancer, Alzheimer’s, diabetes, and more. \\n\\nA unity agenda for the nation. \\n\\nWe can do this. \\n\\nMy fellow Americans—tonight , we have gathered in a sacred space—the citadel of our democracy. \\n\\nIn this Capitol, generation after generation, Americans have debated great questions amid great strife, and have done great things. \\n\\nWe have fought for freedom, expanded liberty, defeated totalitarianism and terror. \\n\\nAnd built the strongest, freest, and most prosperous nation the world has ever known. \\n\\nNow is the hour. \\n\\nOur moment of responsibility. \\n\\nOur test of resolve and conscience, of history itself. \\n\\nIt is in this moment that our character is formed. Our purpose is found. Our future is forged. \\n\\nWell I know this nation.  \\n\\nWe will meet the test. \\n\\nTo protect freedom and liberty, to expand fairness and opportunity. \\n\\nWe will save democracy. \\n\\nAs hard as these times have been, I am more optimistic about America today than I have been my whole life. \\n\\nBecause I see the future that is within our grasp. \\n\\nBecause I know there is simply nothing beyond our capacity. \\n\\nWe are the only nation on Earth that has always turned every crisis we have faced into an opportunity. \\n\\nThe only nation that can be defined by a single word: possibilities. \\n\\nSo on this night, in our 245th year as a nation, I have come to report on the State of the Union. \\n\\nAnd my report is this: the State of the Union is strong—because you, the American people, are strong. \\n\\nWe are stronger today than we were a year ago. \\n\\nAnd we will be stronger a year from now than we are today. \\n\\nNow is our moment to meet and overcome the challenges of our time. \\n\\nAnd we will, as one people. \\n\\nOne America. \\n\\nThe United States of America. \\n\\nMay God bless you all. May God protect our troops.')]"
      ]
     },
     "execution_count": 5,
     "metadata": {},
     "output_type": "execute_result"
    }
   ],
   "source": [
    "data"
   ]
  },
  {
   "cell_type": "markdown",
   "metadata": {},
   "source": [
    "## Split data\n"
   ]
  },
  {
   "cell_type": "markdown",
   "metadata": {},
   "source": [
    "Since the embedding model has a maximum input token limit, you cannot input the entire document at once. Instead, you need to split it into chunks.\n",
    "\n",
    "The following code shows how to use LangChain's `RecursiveCharacterTextSplitter` to split the document into chunks.\n",
    "- Use the default separator list, which is `[\"\\n\\n\", \"\\n\", \" \", \"\"]`.\n",
    "- Chunk size is set to `100`. This should be set to less than the model's maximum input token.\n",
    "- Chunk overlap is set to `20`.\n",
    "- The length function is `len`.\n"
   ]
  },
  {
   "cell_type": "code",
   "execution_count": 6,
   "metadata": {},
   "outputs": [],
   "source": [
    "from langchain.text_splitter import RecursiveCharacterTextSplitter"
   ]
  },
  {
   "cell_type": "code",
   "execution_count": 7,
   "metadata": {},
   "outputs": [],
   "source": [
    "text_splitter = RecursiveCharacterTextSplitter(\n",
    "    chunk_size=100,\n",
    "    chunk_overlap=20,\n",
    "    length_function=len,\n",
    ")"
   ]
  },
  {
   "cell_type": "code",
   "execution_count": 8,
   "metadata": {},
   "outputs": [],
   "source": [
    "chunks = text_splitter.split_text(data[0].page_content)"
   ]
  },
  {
   "cell_type": "markdown",
   "metadata": {},
   "source": [
    "Let's see how many chunks you get.\n"
   ]
  },
  {
   "cell_type": "code",
   "execution_count": 9,
   "metadata": {},
   "outputs": [
    {
     "data": {
      "text/plain": [
       "570"
      ]
     },
     "execution_count": 9,
     "metadata": {},
     "output_type": "execute_result"
    }
   ],
   "source": [
    "len(chunks)"
   ]
  },
  {
   "cell_type": "markdown",
   "metadata": {},
   "source": [
    "Let's also see what these chunks looks like.\n"
   ]
  },
  {
   "cell_type": "code",
   "execution_count": 10,
   "metadata": {},
   "outputs": [
    {
     "data": {
      "text/plain": [
       "['Madam Speaker, Madam Vice President, our First Lady and Second Gentleman. Members of Congress and',\n",
       " 'of Congress and the Cabinet. Justices of the Supreme Court. My fellow Americans.',\n",
       " 'Last year COVID-19 kept us apart. This year we are finally together again.',\n",
       " 'Tonight, we meet as Democrats Republicans and Independents. But most importantly as Americans.',\n",
       " 'With a duty to one another to the American people to the Constitution.',\n",
       " 'And with an unwavering resolve that freedom will always triumph over tyranny.',\n",
       " 'Six days ago, Russia’s Vladimir Putin sought to shake the foundations of the free world thinking he',\n",
       " 'world thinking he could make it bend to his menacing ways. But he badly miscalculated.',\n",
       " 'He thought he could roll into Ukraine and the world would roll over. Instead he met a wall of',\n",
       " 'he met a wall of strength he never imagined.',\n",
       " 'He met the Ukrainian people.',\n",
       " 'From President Zelenskyy to every Ukrainian, their fearlessness, their courage, their',\n",
       " 'courage, their determination, inspires the world.',\n",
       " 'Groups of citizens blocking tanks with their bodies. Everyone from students to retirees teachers',\n",
       " 'retirees teachers turned soldiers defending their homeland.',\n",
       " 'In this struggle as President Zelenskyy said in his speech to the European Parliament “Light will',\n",
       " '“Light will win over darkness.” The Ukrainian Ambassador to the United States is here tonight.',\n",
       " 'Let each of us here tonight in this Chamber send an unmistakable signal to Ukraine and to the',\n",
       " 'Ukraine and to the world.',\n",
       " 'Please rise if you are able and show that, Yes, we the United States of America stand with the',\n",
       " 'stand with the Ukrainian people.',\n",
       " 'Throughout our history we’ve learned this lesson when dictators do not pay a price for their',\n",
       " 'a price for their aggression they cause more chaos.',\n",
       " 'They keep moving.   \\n\\nAnd the costs and the threats to America and the world keep rising.',\n",
       " 'That’s why the NATO Alliance was created to secure peace and stability in Europe after World War 2.',\n",
       " 'after World War 2.',\n",
       " 'The United States is a member along with 29 other nations.',\n",
       " 'It matters. American diplomacy matters. American resolve matters.',\n",
       " 'Putin’s latest attack on Ukraine was premeditated and unprovoked.',\n",
       " 'He rejected repeated efforts at diplomacy.',\n",
       " 'He thought the West and NATO wouldn’t respond. And he thought he could divide us at home. Putin was',\n",
       " 'at home. Putin was wrong. We were ready.  Here is what we did.',\n",
       " 'We prepared extensively and carefully.',\n",
       " 'We spent months building a coalition of other freedom-loving nations from Europe and the Americas',\n",
       " 'and the Americas to Asia and Africa to confront Putin.',\n",
       " 'I spent countless hours unifying our European allies. We shared with the world in advance what we',\n",
       " 'in advance what we knew Putin was planning and precisely how he would try to falsely justify his',\n",
       " 'falsely justify his aggression.',\n",
       " 'We countered Russia’s lies with truth.',\n",
       " 'And now that he has acted the free world is holding him accountable.',\n",
       " 'Along with twenty-seven members of the European Union including France, Germany, Italy, as well as',\n",
       " 'Italy, as well as countries like the United Kingdom, Canada, Japan, Korea, Australia, New Zealand,',\n",
       " 'New Zealand, and many others, even Switzerland.',\n",
       " 'We are inflicting pain on Russia and supporting the people of Ukraine. Putin is now isolated from',\n",
       " 'now isolated from the world more than ever.',\n",
       " 'Together with our allies –we are right now enforcing powerful economic sanctions.',\n",
       " 'We are cutting off Russia’s largest banks from the international financial system.',\n",
       " 'Preventing Russia’s central bank from defending the Russian Ruble making Putin’s $630 Billion “war',\n",
       " '$630 Billion “war fund” worthless.',\n",
       " 'We are choking off Russia’s access to technology that will sap its economic strength and weaken its',\n",
       " 'and weaken its military for years to come.',\n",
       " 'Tonight I say to the Russian oligarchs and corrupt leaders who have bilked billions of dollars off',\n",
       " 'of dollars off this violent regime no more.',\n",
       " 'The U.S. Department of Justice is assembling a dedicated task force to go after the crimes of',\n",
       " 'after the crimes of Russian oligarchs.',\n",
       " 'We are joining with our European allies to find and seize your yachts your luxury apartments your',\n",
       " 'apartments your private jets. We are coming for your ill-begotten gains.',\n",
       " 'And tonight I am announcing that we will join our allies in closing off American air space to all',\n",
       " 'air space to all Russian flights – further isolating Russia – and adding an additional squeeze –on',\n",
       " 'squeeze –on their economy. The Ruble has lost 30% of its value.',\n",
       " 'The Russian stock market has lost 40% of its value and trading remains suspended. Russia’s economy',\n",
       " 'Russia’s economy is reeling and Putin alone is to blame.',\n",
       " 'Together with our allies we are providing support to the Ukrainians in their fight for freedom.',\n",
       " 'fight for freedom. Military assistance. Economic assistance. Humanitarian assistance.',\n",
       " 'We are giving more than $1 Billion in direct assistance to Ukraine.',\n",
       " 'And we will continue to aid the Ukrainian people as they defend their country and to help ease',\n",
       " 'and to help ease their suffering.',\n",
       " 'Let me be clear, our forces are not engaged and will not engage in conflict with Russian forces in',\n",
       " 'Russian forces in Ukraine.',\n",
       " 'Our forces are not going to Europe to fight in Ukraine, but to defend our NATO Allies – in the',\n",
       " 'Allies – in the event that Putin decides to keep moving west.',\n",
       " 'For that purpose we’ve mobilized American ground forces, air squadrons, and ship deployments to',\n",
       " 'ship deployments to protect NATO countries including Poland, Romania, Latvia, Lithuania, and',\n",
       " 'Lithuania, and Estonia.',\n",
       " 'As I have made crystal clear the United States and our Allies will defend every inch of territory',\n",
       " 'inch of territory of NATO countries with the full force of our collective power.',\n",
       " 'And we remain clear-eyed. The Ukrainians are fighting back with pure courage. But the next few days',\n",
       " 'the next few days weeks, months, will be hard on them.',\n",
       " 'Putin has unleashed violence and chaos.  But while he may make gains on the battlefield – he will',\n",
       " '– he will pay a continuing high price over the long run.',\n",
       " 'And a proud Ukrainian people, who have known 30 years  of independence, have repeatedly shown that',\n",
       " 'shown that they will not tolerate anyone who tries to take their country backwards.',\n",
       " 'To all Americans, I will be honest with you, as I’ve always promised. A Russian dictator, invading',\n",
       " 'dictator, invading a foreign country, has costs around the world.',\n",
       " 'And I’m taking robust action to make sure the pain of our sanctions  is targeted at Russia’s',\n",
       " 'at Russia’s economy. And I will use every tool at our disposal to protect American businesses and',\n",
       " 'businesses and consumers.',\n",
       " 'Tonight, I can announce that the United States has worked with 30 other countries to release 60',\n",
       " 'to release 60 Million barrels of oil from reserves around the world.',\n",
       " 'America will lead that effort, releasing 30 Million barrels from our own Strategic Petroleum',\n",
       " 'Strategic Petroleum Reserve. And we stand ready to do more if necessary, unified with our allies.',\n",
       " 'These steps will help blunt gas prices here at home. And I know the news about what’s happening can',\n",
       " 'happening can seem alarming.',\n",
       " 'But I want you to know that we are going to be okay.',\n",
       " 'When the history of this era is written Putin’s war on Ukraine will have left Russia weaker and the',\n",
       " 'weaker and the rest of the world stronger.',\n",
       " 'While it shouldn’t have taken something so terrible for people around the world to see what’s at',\n",
       " 'to see what’s at stake now everyone sees it clearly.',\n",
       " 'We see the unity among leaders of nations and a more unified Europe a more unified West. And we see',\n",
       " 'West. And we see unity among the people who are gathering in cities in large crowds around the',\n",
       " 'crowds around the world even in Russia to demonstrate their support for Ukraine.',\n",
       " 'In the battle between democracy and autocracy, democracies are rising to the moment, and the world',\n",
       " 'and the world is clearly choosing the side of peace and security.',\n",
       " 'This is a real test. It’s going to take time. So let us continue to draw inspiration from the iron',\n",
       " 'from the iron will of the Ukrainian people.',\n",
       " 'To our fellow Ukrainian Americans who forge a deep bond that connects our two nations we stand with',\n",
       " 'we stand with you.',\n",
       " 'Putin may circle Kyiv with tanks, but he will never gain the hearts and souls of the Ukrainian',\n",
       " 'of the Ukrainian people.',\n",
       " 'He will never extinguish their love of freedom. He will never weaken the resolve of the free world.',\n",
       " 'of the free world.',\n",
       " 'We meet tonight in an America that has lived through two of the hardest years this nation has ever',\n",
       " 'nation has ever faced.',\n",
       " 'The pandemic has been punishing.',\n",
       " 'And so many families are living paycheck to paycheck, struggling to keep up with the rising cost of',\n",
       " 'the rising cost of food, gas, housing, and so much more.',\n",
       " 'I understand.',\n",
       " 'I remember when my Dad had to leave our home in Scranton, Pennsylvania to find work. I grew up in a',\n",
       " 'I grew up in a family where if the price of food went up, you felt it.',\n",
       " 'That’s why one of the first things I did as President was fight to pass the American Rescue Plan.',\n",
       " 'Because people were hurting. We needed to act, and we did.',\n",
       " 'Few pieces of legislation have done more in a critical moment in our history to lift us out of',\n",
       " 'to lift us out of crisis.',\n",
       " 'It fueled our efforts to vaccinate the nation and combat COVID-19. It delivered immediate economic',\n",
       " 'immediate economic relief for tens of millions of Americans.',\n",
       " 'Helped put food on their table, keep a roof over their heads, and cut the cost of health insurance.',\n",
       " 'health insurance.',\n",
       " 'And as my Dad used to say, it gave people a little breathing room.',\n",
       " 'And unlike the $2 Trillion tax cut passed in the previous administration that benefitted the top 1%',\n",
       " 'the top 1% of Americans, the American Rescue Plan helped working people—and left no one behind.',\n",
       " 'And it worked. It created jobs. Lots of jobs.',\n",
       " 'In fact—our economy created over 6.5 Million new jobs just last year, more jobs created in one year',\n",
       " 'created in one year',\n",
       " 'than ever before in the history of America.',\n",
       " 'Our economy grew at a rate of 5.7% last year, the strongest growth in nearly 40 years, the first',\n",
       " '40 years, the first step in bringing fundamental change to an economy that hasn’t worked for the',\n",
       " 'worked for the working people of this nation for too long.',\n",
       " 'For the past 40 years we were told that if we gave tax breaks to those at the very top, the',\n",
       " 'the very top, the benefits would trickle down to everyone else.',\n",
       " 'But that trickle-down theory led to weaker economic growth, lower wages, bigger deficits, and the',\n",
       " 'deficits, and the widest gap between those at the top and everyone else in nearly a century.',\n",
       " 'Vice President Harris and I ran for office with a new economic vision for America.',\n",
       " 'Invest in America. Educate Americans. Grow the workforce. Build the economy from the bottom up',\n",
       " 'and the middle out, not from the top down.',\n",
       " 'Because we know that when the middle class grows, the poor have a ladder up and the wealthy do very',\n",
       " 'the wealthy do very well.',\n",
       " 'America used to have the best roads, bridges, and airports on Earth.',\n",
       " 'Now our infrastructure is ranked 13th in the world.',\n",
       " 'We won’t be able to compete for the jobs of the 21st Century if we don’t fix that.',\n",
       " 'That’s why it was so important to pass the Bipartisan Infrastructure Law—the most sweeping',\n",
       " 'most sweeping investment to rebuild America in history.',\n",
       " 'This was a bipartisan effort, and I want to thank the members of both parties who worked to make it',\n",
       " 'worked to make it happen.',\n",
       " 'We’re done talking about infrastructure weeks. \\n\\nWe’re going to have an infrastructure decade.',\n",
       " 'It is going to transform America and put us on a path to win the economic competition of the 21st',\n",
       " 'of the 21st Century that we face with the rest of the world—particularly with China.',\n",
       " 'As I’ve told Xi Jinping, it is never a good bet to bet against the American people.',\n",
       " 'We’ll create good jobs for millions of Americans, modernizing roads, airports, ports, and waterways',\n",
       " 'and waterways all across America.',\n",
       " 'And we’ll do it all to withstand the devastating effects of the climate crisis and promote',\n",
       " 'crisis and promote environmental justice.',\n",
       " 'We’ll build a national network of 500,000 electric vehicle charging stations, begin to replace',\n",
       " 'begin to replace poisonous lead pipes—so every child—and every American—has clean water to drink at',\n",
       " 'water to drink at home and at school, provide affordable high-speed internet for every',\n",
       " 'internet for every American—urban, suburban, rural, and tribal communities.',\n",
       " '4,000 projects have already been announced.',\n",
       " 'And tonight, I’m announcing that this year we will start fixing over 65,000 miles of highway and',\n",
       " 'of highway and 1,500 bridges in disrepair.',\n",
       " 'When we use taxpayer dollars to rebuild America – we are going to Buy American: buy American',\n",
       " 'buy American products to support American jobs.',\n",
       " 'The federal government spends about $600 Billion a year to keep the country safe and secure.',\n",
       " 'There’s been a law on the books for almost a century',\n",
       " 'to make sure taxpayers’ dollars support American jobs and businesses.',\n",
       " 'Every Administration says they’ll do it, but we are actually doing it.',\n",
       " 'We will buy American to make sure everything from the deck of an aircraft carrier to the steel on',\n",
       " 'to the steel on highway guardrails are made in America.',\n",
       " 'But to compete for the best jobs of the future, we also need to level the playing field with China',\n",
       " 'field with China and other competitors.',\n",
       " 'That’s why it is so important to pass the Bipartisan Innovation Act sitting in Congress that will',\n",
       " 'Congress that will make record investments in emerging technologies and American manufacturing.',\n",
       " 'Let me give you one example of why it’s so important to pass it.',\n",
       " 'If you travel 20 miles east of Columbus, Ohio, you’ll find 1,000 empty acres of land.',\n",
       " 'It won’t look like much, but if you stop and look closely, you’ll see a “Field of dreams,” the',\n",
       " 'of dreams,” the ground on which America’s future will be built.',\n",
       " 'This is where Intel, the American company that helped build Silicon Valley, is going to build its',\n",
       " 'going to build its $20 billion semiconductor “mega site”.',\n",
       " 'Up to eight state-of-the-art factories in one place. 10,000 new good-paying jobs.',\n",
       " 'Some of the most sophisticated manufacturing in the world to make computer chips the size of a',\n",
       " 'chips the size of a fingertip that power the world and our everyday lives.',\n",
       " 'Smartphones. The Internet. Technology we have yet to invent. \\n\\nBut that’s just the beginning.',\n",
       " 'Intel’s CEO, Pat Gelsinger, who is here tonight, told me they are ready to increase their',\n",
       " 'to increase their investment from',\n",
       " '$20 billion to $100 billion.',\n",
       " 'That would be one of the biggest investments in manufacturing in American history.',\n",
       " 'And all they’re waiting for is for you to pass this bill.',\n",
       " 'So let’s not wait any longer. Send it to my desk. I’ll sign it.  \\n\\nAnd we will really take off.',\n",
       " 'And Intel is not alone. \\n\\nThere’s something happening in America.',\n",
       " 'Just look around and you’ll see an amazing story.',\n",
       " 'The rebirth of the pride that comes from stamping products “Made In America.” The revitalization of',\n",
       " 'revitalization of American manufacturing.',\n",
       " 'Companies are choosing to build new factories here, when just a few years ago, they would have',\n",
       " 'they would have built them overseas.',\n",
       " 'That’s what is happening. Ford is investing $11 billion to build electric vehicles, creating 11,000',\n",
       " 'creating 11,000 jobs across the country.',\n",
       " 'GM is making the largest investment in its history—$7 billion to build electric vehicles, creating',\n",
       " 'vehicles, creating 4,000 jobs in Michigan.',\n",
       " 'All told, we created 369,000 new manufacturing jobs in America just last year.',\n",
       " 'Powered by people I’ve met like JoJo Burgess, from generations of union steelworkers from',\n",
       " 'steelworkers from Pittsburgh, who’s here with us tonight.',\n",
       " 'As Ohio Senator Sherrod Brown says, “It’s time to bury the label “Rust Belt.” \\n\\nIt’s time.',\n",
       " 'But with all the bright spots in our economy, record job growth and higher wages, too many families',\n",
       " 'too many families are struggling to keep up with the bills.',\n",
       " 'Inflation is robbing them of the gains they might otherwise feel.',\n",
       " 'I get it. That’s why my top priority is getting prices under control.',\n",
       " 'Look, our economy roared back faster than most predicted, but the pandemic meant that businesses',\n",
       " 'that businesses had a hard time hiring enough workers to keep up production in their factories.',\n",
       " 'The pandemic also disrupted global supply chains.',\n",
       " 'When factories close, it takes longer to make goods and get them from the warehouse to the store,',\n",
       " 'to the store, and prices go up.',\n",
       " 'Look at cars.',\n",
       " 'Last year, there weren’t enough semiconductors to make all the cars that people wanted to buy.',\n",
       " 'And guess what, prices of automobiles went up. \\n\\nSo—we have a choice.',\n",
       " 'One way to fight inflation is to drive down wages and make Americans poorer.',\n",
       " 'I have a better plan to fight inflation. \\n\\nLower your costs, not your wages.',\n",
       " 'Make more cars and semiconductors in America. \\n\\nMore infrastructure and innovation in America.',\n",
       " 'More goods moving faster and cheaper in America.',\n",
       " 'More jobs where you can earn a good living in America.',\n",
       " 'And instead of relying on foreign supply chains, let’s make it in America.',\n",
       " 'Economists call it “increasing the productive capacity of our economy.”',\n",
       " 'I call it building a better America.',\n",
       " 'My plan to fight inflation will lower your costs and lower the deficit.',\n",
       " '17 Nobel laureates in economics say my plan will ease long-term inflationary pressures. Top',\n",
       " 'pressures. Top business leaders and most Americans support my plan. And here’s the plan:',\n",
       " 'First – cut the cost of prescription drugs. Just look at insulin. One in ten Americans has',\n",
       " 'ten Americans has diabetes. In Virginia, I met a 13-year-old boy named Joshua Davis.',\n",
       " 'He and his Dad both have Type 1 diabetes, which means they need insulin every day. Insulin costs',\n",
       " 'day. Insulin costs about $10 a vial to make.',\n",
       " 'But drug companies charge families like Joshua and his Dad up to 30 times more. I spoke with',\n",
       " 'more. I spoke with Joshua’s mom.',\n",
       " 'Imagine what it’s like to look at your child who needs insulin and have no idea how you’re going to',\n",
       " 'how you’re going to pay for it.',\n",
       " 'What it does to your dignity, your ability to look your child in the eye, to be the parent you',\n",
       " 'be the parent you expect to be.',\n",
       " 'Joshua is here with us tonight. Yesterday was his birthday. Happy birthday, buddy.',\n",
       " 'For Joshua, and for the 200,000 other young people with Type 1 diabetes, let’s cap the cost of',\n",
       " 'cap the cost of insulin at $35 a month so everyone can afford it.',\n",
       " 'Drug companies will still do very well. And while we’re at it let Medicare negotiate lower prices',\n",
       " 'lower prices for prescription drugs, like the VA already does.',\n",
       " 'Look, the American Rescue Plan is helping millions of families on Affordable Care Act plans save',\n",
       " 'Care Act plans save $2,400 a year on their health care premiums. Let’s close the coverage gap and',\n",
       " 'coverage gap and make those savings permanent.',\n",
       " 'Second – cut energy costs for families an average of $500 a year by combatting climate change.',\n",
       " 'Let’s provide investments and tax credits to weatherize your homes and businesses to be energy',\n",
       " 'to be energy efficient and you get a tax credit; double America’s clean energy production in solar,',\n",
       " 'in solar, wind, and so much more;  lower the price of electric vehicles, saving you another $80 a',\n",
       " 'you another $80 a month because you’ll never have to pay at the gas pump again.',\n",
       " 'Third – cut the cost of child care. Many families pay up to $14,000 a year for child care per',\n",
       " 'for child care per child.',\n",
       " 'Middle-class and working families shouldn’t have to pay more than 7% of their income for care of',\n",
       " 'income for care of young children.',\n",
       " 'My plan will cut the cost in half for most families and help parents, including millions of women,',\n",
       " 'millions of women, who left the workforce during the pandemic because they couldn’t afford child',\n",
       " 'afford child care, to be able to get back to work.',\n",
       " 'My plan doesn’t stop there. It also includes home and long-term care. More affordable housing. And',\n",
       " 'housing. And Pre-K for every 3- and 4-year-old.',\n",
       " 'All of these will lower costs.',\n",
       " 'And under my plan, nobody earning less than $400,000 a year will pay an additional penny in new',\n",
       " 'penny in new taxes. Nobody.',\n",
       " 'The one thing all Americans agree on is that the tax system is not fair. We have to fix it.',\n",
       " 'I’m not looking to punish anyone. But let’s make sure corporations and the wealthiest Americans',\n",
       " 'Americans start paying their fair share.',\n",
       " 'Just last year, 55 Fortune 500 corporations earned $40 billion in profits and paid zero dollars in',\n",
       " 'zero dollars in federal income tax.',\n",
       " 'That’s simply not fair. That’s why I’ve proposed a 15% minimum tax rate for corporations.',\n",
       " 'We got more than 130 countries to agree on a global minimum tax rate so companies can’t get out of',\n",
       " 'can’t get out of paying their taxes at home by shipping jobs and factories overseas.',\n",
       " 'That’s why I’ve proposed closing loopholes so the very wealthy don’t pay a lower tax rate than a',\n",
       " 'tax rate than a teacher or a firefighter.',\n",
       " 'So that’s my plan. It will grow the economy and lower costs for families.',\n",
       " 'So what are we waiting for? Let’s get this done. And while you’re at it, confirm my nominees to the',\n",
       " 'my nominees to the Federal Reserve, which plays a critical role in fighting inflation.',\n",
       " 'My plan will not only lower costs to give families a fair shot, it will lower the deficit.',\n",
       " 'The previous Administration not only ballooned the deficit with tax cuts for the very wealthy and',\n",
       " 'very wealthy and corporations, it undermined the watchdogs whose job was to keep pandemic relief',\n",
       " 'pandemic relief funds from being wasted.',\n",
       " 'But in my administration, the watchdogs have been welcomed back.',\n",
       " 'We’re going after the criminals who stole billions in relief money meant for small businesses and',\n",
       " 'businesses and millions of Americans.',\n",
       " 'And tonight, I’m announcing that the Justice Department will name a chief prosecutor for pandemic',\n",
       " 'for pandemic fraud.',\n",
       " 'By the end of this year, the deficit will be down to less than half what it was before I took',\n",
       " 'was before I took office.',\n",
       " 'The only president ever to cut the deficit by more than one trillion dollars in a single year.',\n",
       " 'Lowering your costs also means demanding more competition.',\n",
       " 'I’m a capitalist, but capitalism without competition isn’t capitalism.',\n",
       " 'It’s exploitation—and it drives up prices.',\n",
       " 'When corporations don’t have to compete, their profits go up, your prices go up, and small',\n",
       " 'go up, and small businesses and family farmers and ranchers go under.',\n",
       " 'We see it happening with ocean carriers moving goods in and out of America.',\n",
       " 'During the pandemic, these foreign-owned companies raised prices by as much as 1,000% and made',\n",
       " 'as 1,000% and made record profits.',\n",
       " 'Tonight, I’m announcing a crackdown on these companies overcharging American businesses and',\n",
       " 'businesses and consumers.',\n",
       " 'And as Wall Street firms take over more nursing homes, quality in those homes has gone down and',\n",
       " 'has gone down and costs have gone up.',\n",
       " 'That ends on my watch.',\n",
       " 'Medicare is going to set higher standards for nursing homes and make sure your loved ones get the',\n",
       " 'loved ones get the care they deserve and expect.',\n",
       " 'We’ll also cut costs and keep the economy going strong by giving workers a fair shot, provide more',\n",
       " 'shot, provide more training and apprenticeships, hire them based on their skills not degrees.',\n",
       " 'Let’s pass the Paycheck Fairness Act and paid leave.',\n",
       " 'Raise the minimum wage to $15 an hour and extend the Child Tax Credit, so no one has to raise a',\n",
       " 'one has to raise a family in poverty.',\n",
       " 'Let’s increase Pell Grants and increase our historic support of HBCUs, and invest in what Jill—our',\n",
       " 'in what Jill—our First Lady who teaches full-time—calls America’s best-kept secret: community',\n",
       " 'secret: community colleges.',\n",
       " 'And let’s pass the PRO Act when a majority of workers want to form a union—they shouldn’t be',\n",
       " 'shouldn’t be stopped.',\n",
       " 'When we invest in our workers, when we build the economy from the bottom up and the middle out',\n",
       " 'and the middle out together, we can do something we haven’t done in a long time: build a better',\n",
       " 'build a better America.',\n",
       " 'For more than two years, COVID-19 has impacted every decision in our lives and the life of the',\n",
       " 'and the life of the nation.',\n",
       " 'And I know you’re tired, frustrated, and exhausted. \\n\\nBut I also know this.',\n",
       " 'Because of the progress we’ve made, because of your resilience and the tools we have, tonight I can',\n",
       " 'have, tonight I can say',\n",
       " 'we are moving forward safely, back to more normal routines.',\n",
       " 'We’ve reached a new moment in the fight against COVID-19, with severe cases down to a level not',\n",
       " 'down to a level not seen since last July.',\n",
       " 'Just a few days ago, the Centers for Disease Control and Prevention—the CDC—issued new mask',\n",
       " 'CDC—issued new mask guidelines.',\n",
       " 'Under these new guidelines, most Americans in most of the country can now be mask free.',\n",
       " 'And based on the projections, more of the country will reach that point across the next couple of',\n",
       " 'the next couple of weeks.',\n",
       " 'Thanks to the progress we have made this past year, COVID-19 need no longer control our lives.',\n",
       " 'I know some are talking about “living with COVID-19”. Tonight – I say that we will never just',\n",
       " 'we will never just accept living with COVID-19.',\n",
       " 'We will continue to combat the virus as we do other diseases. And because this is a virus that',\n",
       " 'is a virus that mutates and spreads, we will stay on guard.',\n",
       " 'Here are four common sense steps as we move forward safely.',\n",
       " 'First, stay protected with vaccines and treatments. We know how incredibly effective vaccines are.',\n",
       " 'vaccines are. If you’re vaccinated and boosted you have the highest degree of protection.',\n",
       " 'We will never give up on vaccinating more Americans. Now, I know parents with kids under 5 are',\n",
       " 'kids under 5 are eager to see a vaccine authorized for their children.',\n",
       " 'The scientists are working hard to get that done and we’ll be ready with plenty of vaccines when',\n",
       " 'of vaccines when they do.',\n",
       " 'We’re also ready with anti-viral treatments. If you get COVID-19, the Pfizer pill reduces your',\n",
       " 'pill reduces your chances of ending up in the hospital by 90%.',\n",
       " 'We’ve ordered more of these pills than anyone in the world. And Pfizer is working overtime to get',\n",
       " 'overtime to get us 1 Million pills this month and more than double that next month.',\n",
       " 'And we’re launching the “Test to Treat” initiative so people can get tested at a pharmacy, and if',\n",
       " 'a pharmacy, and if they’re positive, receive antiviral pills on the spot at no cost.',\n",
       " 'If you’re immunocompromised or have some other vulnerability, we have treatments and free',\n",
       " 'treatments and free high-quality masks.',\n",
       " 'We’re leaving no one behind or ignoring anyone’s needs as we move forward.',\n",
       " 'And on testing, we have made hundreds of millions of tests available for you to order for free.',\n",
       " 'Even if you already ordered free tests tonight, I am announcing that you can order more from',\n",
       " 'can order more from covidtests.gov starting next week.',\n",
       " 'Second – we must prepare for new variants. Over the past year, we’ve gotten much better at',\n",
       " 'much better at detecting new variants.',\n",
       " 'If necessary, we’ll be able to deploy new vaccines within 100 days instead of many more months or',\n",
       " 'many more months or years.',\n",
       " 'And, if Congress provides the funds we need, we’ll have new stockpiles of tests, masks, and pills',\n",
       " 'masks, and pills ready if needed.',\n",
       " 'I cannot promise a new variant won’t come. But I can promise you we’ll do everything within our',\n",
       " 'within our power to be ready if it does.',\n",
       " 'Third – we can end the shutdown of schools and businesses. We have the tools we need.',\n",
       " 'It’s time for Americans to get back to work and fill our great downtowns again.  People working',\n",
       " 'People working from home can feel safe to begin to return to the office.',\n",
       " 'We’re doing that here in the federal government. The vast majority of federal workers will once',\n",
       " 'workers will once again work in person.',\n",
       " 'Our schools are open. Let’s keep it that way. Our kids need to be in school.',\n",
       " 'And with 75% of adult Americans fully vaccinated and hospitalizations down by 77%, most Americans',\n",
       " '77%, most Americans can remove their masks, return to work, stay in the classroom, and move forward',\n",
       " 'and move forward safely.',\n",
       " 'We achieved this because we provided free vaccines, treatments, tests, and masks.',\n",
       " 'Of course, continuing this costs money. \\n\\nI will soon send Congress a request.',\n",
       " 'The vast majority of Americans have used these tools and may want to again, so I expect Congress to',\n",
       " 'expect Congress to pass it quickly.',\n",
       " 'Fourth, we will continue vaccinating the world.',\n",
       " 'We’ve sent 475 Million vaccine doses to 112 countries, more than any other nation.',\n",
       " 'And we won’t stop.',\n",
       " 'We have lost so much to COVID-19. Time with one another. And worst of all, so much loss of life.',\n",
       " 'Let’s use this moment to reset. Let’s stop looking at COVID-19 as a partisan dividing line and see',\n",
       " 'line and see it for what it is: A God-awful disease.',\n",
       " 'Let’s stop seeing each other as enemies, and start seeing each other for who we really are: Fellow',\n",
       " 'really are: Fellow Americans.',\n",
       " 'We can’t change how divided we’ve been. But we can change how we move forward—on COVID-19 and other',\n",
       " 'COVID-19 and other issues we must face together.',\n",
       " 'I recently visited the New York City Police Department days after the funerals of Officer Wilbert',\n",
       " 'of Officer Wilbert Mora and his partner, Officer Jason Rivera.',\n",
       " 'They were responding to a 9-1-1 call when a man shot and killed them with a stolen gun.',\n",
       " 'Officer Mora was 27 years old. \\n\\nOfficer Rivera was 22.',\n",
       " 'Both Dominican Americans who’d grown up on the same streets they later chose to patrol as police',\n",
       " 'to patrol as police officers.',\n",
       " 'I spoke with their families and told them that we are forever in debt for their sacrifice, and we',\n",
       " 'sacrifice, and we will carry on their mission to restore the trust and safety every community',\n",
       " 'every community deserves.',\n",
       " 'I’ve worked on these issues a long time.',\n",
       " 'I know what works: Investing in crime preventionand community police officers who’ll walk the beat,',\n",
       " 'walk the beat, who’ll know the neighborhood, and who can restore trust and safety.',\n",
       " 'So let’s not abandon our streets. Or choose between safety and equal justice.',\n",
       " 'Let’s come together to protect our communities, restore trust, and hold law enforcement',\n",
       " 'law enforcement accountable.',\n",
       " 'That’s why the Justice Department required body cameras, banned chokeholds, and restricted no-knock',\n",
       " 'restricted no-knock warrants for its officers.',\n",
       " 'That’s why the American Rescue Plan provided $350 Billion that cities, states, and counties can use',\n",
       " 'counties can use to hire more police and invest in proven strategies like community violence',\n",
       " 'community violence interruption—trusted messengers breaking the cycle of violence and trauma and',\n",
       " 'and trauma and giving young people hope.',\n",
       " 'We should all agree: The answer is not to Defund the police. The answer is to FUND the police with',\n",
       " 'the police with the resources and training they need to protect our communities.',\n",
       " 'I ask Democrats and Republicans alike: Pass my budget and keep our neighborhoods safe.',\n",
       " 'And I will keep doing everything in my power to crack down on gun trafficking and ghost guns you',\n",
       " 'and ghost guns you can buy online and make at home—they have no serial numbers and can’t be traced.',\n",
       " 'can’t be traced.',\n",
       " 'And I ask Congress to pass proven measures to reduce gun violence. Pass universal background',\n",
       " 'background checks. Why should anyone on a terrorist list be able to purchase a weapon?',\n",
       " 'Ban assault weapons and high-capacity magazines.',\n",
       " 'Repeal the liability shield that makes gun manufacturers the only industry in America that can’t be',\n",
       " 'that can’t be sued.',\n",
       " 'These laws don’t infringe on the Second Amendment. They save lives.',\n",
       " 'The most fundamental right in America is the right to vote – and to have it counted. And it’s under',\n",
       " 'And it’s under assault.',\n",
       " 'In state after state, new laws have been passed, not only to suppress the vote, but to subvert',\n",
       " 'but to subvert entire elections.',\n",
       " 'We cannot let this happen.',\n",
       " 'Tonight. I call on the Senate to: Pass the Freedom to Vote Act. Pass the John Lewis Voting Rights',\n",
       " 'Lewis Voting Rights Act. And while you’re at it, pass the Disclose Act so Americans can know who is',\n",
       " 'can know who is funding our elections.',\n",
       " 'Tonight, I’d like to honor someone who has dedicated his life to serve this country: Justice',\n",
       " 'country: Justice Stephen Breyer—an Army veteran, Constitutional scholar, and retiring Justice of',\n",
       " 'retiring Justice of the United States Supreme Court. Justice Breyer, thank you for your service.',\n",
       " 'One of the most serious constitutional responsibilities a President has is nominating someone to',\n",
       " 'someone to serve on the United States Supreme Court.',\n",
       " 'And I did that 4 days ago, when I nominated Circuit Court of Appeals Judge Ketanji Brown Jackson.',\n",
       " 'Brown Jackson. One of our nation’s top legal minds, who will continue Justice Breyer’s legacy of',\n",
       " 'Breyer’s legacy of excellence.',\n",
       " 'A former top litigator in private practice. A former federal public defender. And from a family of',\n",
       " 'from a family of public school educators and police officers. A consensus builder. Since she’s been',\n",
       " 'Since she’s been nominated, she’s received a broad range of support—from the Fraternal Order of',\n",
       " 'Fraternal Order of Police to former judges appointed by Democrats and Republicans.',\n",
       " 'And if we are to advance liberty and justice, we need to secure the Border and fix the immigration',\n",
       " 'fix the immigration system.',\n",
       " 'We can do both. At our border, we’ve installed new technology like cutting-edge scanners to better',\n",
       " 'scanners to better detect drug smuggling.',\n",
       " 'We’ve set up joint patrols with Mexico and Guatemala to catch more human traffickers.',\n",
       " 'We’re putting in place dedicated immigration judges so families fleeing persecution and violence',\n",
       " 'and violence can have their cases heard faster.',\n",
       " 'We’re securing commitments and supporting partners in South and Central America to host more',\n",
       " 'to host more refugees and secure their own borders.',\n",
       " 'We can do all this while keeping lit the torch of liberty that has led generations of immigrants to',\n",
       " 'of immigrants to this land—my forefathers and so many of yours.',\n",
       " 'Provide a pathway to citizenship for Dreamers, those on temporary status, farm workers, and',\n",
       " 'farm workers, and essential workers.',\n",
       " 'Revise our laws so businesses have the workers they need and families don’t wait decades to',\n",
       " 'wait decades to reunite.',\n",
       " 'It’s not only the right thing to do—it’s the economically smart thing to do.',\n",
       " 'That’s why immigration reform is supported by everyone from labor unions to religious leaders to',\n",
       " 'leaders to the U.S. Chamber of Commerce.',\n",
       " 'Let’s get it done once and for all.',\n",
       " 'Advancing liberty and justice also requires protecting the rights of women.',\n",
       " 'The constitutional right affirmed in Roe v. Wade—standing precedent for half a century—is under',\n",
       " 'a century—is under attack as never before.',\n",
       " 'If we want to go forward—not backward—we must protect access to health care. Preserve a woman’s',\n",
       " 'Preserve a woman’s right to choose. And let’s continue to advance maternal health care in America.',\n",
       " 'And for our LGBTQ+ Americans, let’s finally get the bipartisan Equality Act to my desk. The',\n",
       " 'Act to my desk. The onslaught of state laws targeting transgender Americans and their families is',\n",
       " 'their families is wrong.',\n",
       " 'As I said last year, especially to our younger transgender Americans, I will always have your back',\n",
       " 'have your back as your President, so you can be yourself and reach your God-given potential.',\n",
       " 'While it often appears that we never agree, that isn’t true. I signed 80 bipartisan bills into law',\n",
       " 'bills into law last year. From preventing government shutdowns to protecting Asian-Americans from',\n",
       " 'from still-too-common hate crimes to reforming military justice.',\n",
       " 'And soon, we’ll strengthen the Violence Against Women Act that I first wrote three decades ago. It',\n",
       " 'decades ago. It is important for us to show the nation that we can come together and do big things.',\n",
       " 'and do big things.',\n",
       " 'So tonight I’m offering a Unity Agenda for the Nation. Four big things we can do together.',\n",
       " 'First, beat the opioid epidemic.',\n",
       " 'There is so much we can do. Increase funding for prevention, treatment, harm reduction, and',\n",
       " 'harm reduction, and recovery.',\n",
       " 'Get rid of outdated rules that stop doctors from prescribing treatments. And stop the flow of',\n",
       " 'stop the flow of illicit drugs by working with state and local law enforcement to go after',\n",
       " 'to go after traffickers.',\n",
       " 'If you’re suffering from addiction, know you are not alone. I believe in recovery, and I celebrate',\n",
       " 'and I celebrate the 23 million Americans in recovery.',\n",
       " 'Second, let’s take on mental health. Especially among our children, whose lives and education have',\n",
       " 'and education have been turned upside down.',\n",
       " 'The American Rescue Plan gave schools money to hire teachers and help students make up for lost',\n",
       " 'make up for lost learning.',\n",
       " 'I urge every parent to make sure your school does just that. And we can all play a part—sign up to',\n",
       " 'a part—sign up to be a tutor or a mentor.',\n",
       " 'Children were also struggling before the pandemic. Bullying, violence, trauma, and the harms of',\n",
       " 'and the harms of social media.',\n",
       " 'As Frances Haugen, who is here with us tonight, has shown, we must hold social media platforms',\n",
       " 'media platforms accountable for the national experiment they’re conducting on our children for',\n",
       " 'on our children for profit.',\n",
       " 'It’s time to strengthen privacy protections, ban targeted advertising to children, demand tech',\n",
       " 'demand tech companies stop collecting personal data on our children.',\n",
       " 'And let’s get all Americans the mental health services they need. More people they can turn to for',\n",
       " 'can turn to for help, and full parity between physical and mental health care.',\n",
       " 'Third, support our veterans. \\n\\nVeterans are the best of us.',\n",
       " 'I’ve always believed that we have a sacred obligation to equip all those we send to war and care',\n",
       " 'to war and care for them and their families when they come home.',\n",
       " 'My administration is providing assistance with job training and housing, and now helping',\n",
       " 'and now helping lower-income veterans get VA care debt-free.',\n",
       " 'Our troops in Iraq and Afghanistan faced many dangers.',\n",
       " 'One was stationed at bases and breathing in toxic smoke from “burn pits” that incinerated wastes of',\n",
       " 'wastes of war—medical and hazard material, jet fuel, and more.',\n",
       " 'When they came home, many of the world’s fittest and best trained warriors were never the same.',\n",
       " 'Headaches. Numbness. Dizziness. \\n\\nA cancer that would put them in a flag-draped coffin. \\n\\nI know.',\n",
       " 'I know. \\n\\nOne of those soldiers was my son Major Beau Biden.',\n",
       " 'We don’t know for sure if a burn pit was the cause of his brain cancer, or the diseases of so many',\n",
       " 'diseases of so many of our troops.',\n",
       " 'But I’m committed to finding out everything we can.',\n",
       " 'Committed to military families like Danielle Robinson from Ohio.',\n",
       " 'The widow of Sergeant First Class Heath Robinson.',\n",
       " 'He was born a soldier. Army National Guard. Combat medic in Kosovo and Iraq.',\n",
       " 'Stationed near Baghdad, just yards from burn pits the size of football fields.',\n",
       " 'Heath’s widow Danielle is here with us tonight. They loved going to Ohio State football games. He',\n",
       " 'football games. He loved building Legos with their daughter.',\n",
       " 'But cancer from prolonged exposure to burn pits ravaged Heath’s lungs and body.',\n",
       " 'Danielle says Heath was a fighter to the very end.',\n",
       " 'He didn’t know how to stop fighting, and neither did she.',\n",
       " 'Through her pain she found purpose to demand we do better. \\n\\nTonight, Danielle—we are.',\n",
       " 'The VA is pioneering new ways of linking toxic exposures to diseases, already helping more veterans',\n",
       " 'more veterans get benefits.',\n",
       " 'And tonight, I’m announcing we’re expanding eligibility to veterans suffering from nine respiratory',\n",
       " 'nine respiratory cancers.',\n",
       " 'I’m also calling on Congress: pass a law to make sure veterans devastated by toxic exposures in',\n",
       " 'toxic exposures in Iraq and Afghanistan finally get the benefits and comprehensive health care they',\n",
       " 'health care they deserve.',\n",
       " 'And fourth, let’s end cancer as we know it.',\n",
       " 'This is personal to me and Jill, to Kamala, and to so many of you.',\n",
       " 'Cancer is the #2 cause of death in America–second only to heart disease.',\n",
       " 'Last month, I announced our plan to supercharge',\n",
       " 'the Cancer Moonshot that President Obama asked me to lead six years ago.',\n",
       " 'Our goal is to cut the cancer death rate by at least 50% over the next 25 years, turn more cancers',\n",
       " 'turn more cancers from death sentences into treatable diseases.',\n",
       " 'More support for patients and families.',\n",
       " 'To get there, I call on Congress to fund ARPA-H, the Advanced Research Projects Agency for Health.',\n",
       " 'It’s based on DARPA—the Defense Department project that led to the Internet, GPS, and so much more.',\n",
       " 'and so much more.',\n",
       " 'ARPA-H will have a singular purpose—to drive breakthroughs in cancer, Alzheimer’s, diabetes, and',\n",
       " 'diabetes, and more.',\n",
       " 'A unity agenda for the nation. \\n\\nWe can do this.',\n",
       " 'My fellow Americans—tonight , we have gathered in a sacred space—the citadel of our democracy.',\n",
       " 'In this Capitol, generation after generation, Americans have debated great questions amid great',\n",
       " 'amid great strife, and have done great things.',\n",
       " 'We have fought for freedom, expanded liberty, defeated totalitarianism and terror.',\n",
       " 'And built the strongest, freest, and most prosperous nation the world has ever known.',\n",
       " 'Now is the hour. \\n\\nOur moment of responsibility.',\n",
       " 'Our test of resolve and conscience, of history itself.',\n",
       " 'It is in this moment that our character is formed. Our purpose is found. Our future is forged.',\n",
       " 'Well I know this nation.  \\n\\nWe will meet the test.',\n",
       " 'To protect freedom and liberty, to expand fairness and opportunity. \\n\\nWe will save democracy.',\n",
       " 'As hard as these times have been, I am more optimistic about America today than I have been my',\n",
       " 'than I have been my whole life.',\n",
       " 'Because I see the future that is within our grasp.',\n",
       " 'Because I know there is simply nothing beyond our capacity.',\n",
       " 'We are the only nation on Earth that has always turned every crisis we have faced into an',\n",
       " 'have faced into an opportunity.',\n",
       " 'The only nation that can be defined by a single word: possibilities.',\n",
       " 'So on this night, in our 245th year as a nation, I have come to report on the State of the Union.',\n",
       " 'And my report is this: the State of the Union is strong—because you, the American people, are',\n",
       " 'people, are strong.',\n",
       " 'We are stronger today than we were a year ago.',\n",
       " 'And we will be stronger a year from now than we are today.',\n",
       " 'Now is our moment to meet and overcome the challenges of our time. \\n\\nAnd we will, as one people.',\n",
       " 'One America. \\n\\nThe United States of America. \\n\\nMay God bless you all. May God protect our troops.']"
      ]
     },
     "execution_count": 10,
     "metadata": {},
     "output_type": "execute_result"
    }
   ],
   "source": [
    "chunks"
   ]
  },
  {
   "cell_type": "markdown",
   "metadata": {},
   "source": [
    "## Watsonx embedding model\n"
   ]
  },
  {
   "cell_type": "markdown",
   "metadata": {},
   "source": [
    "### Model description\n"
   ]
  },
  {
   "cell_type": "markdown",
   "metadata": {},
   "source": [
    "In this section, you will use IBM `slate-125m-english-rtrvr` model as an example embedding model.\n",
    "\n",
    "The slate.125m.english.rtrvr model is a [standard sentence](https://www.sbert.net/) transformers model based on bi-encoders. The model produces an embedding for a given input, e.g., query, passage, document, etc. At a high level, the model is trained to maximize the cosine similarity between two input pieces of text, e.g., text A (query text) and text B (passage text), which results in the sentence embeddings q and p.These sentence embeddings can be compared using cosine similarity, which measures the distance between sentences by calculating the distance between their embeddings.\n"
   ]
  },
  {
   "cell_type": "markdown",
   "metadata": {},
   "source": [
    "<img src=\"https://cf-courses-data.s3.us.cloud-object-storage.appdomain.cloud/NDCHhZfcC96jggb2hMdJhg/fm-slate-125m-english-rtrvr-cosine.jpg\" width=\"50%\">\n"
   ]
  },
  {
   "cell_type": "markdown",
   "metadata": {},
   "source": [
    "The embedding model, `slate.125m.english` formerly known as WatBERT, has the same architecture as a RoBERTa base transformer model and has ~125 million parameters and an embedding dimension of `768`.\n"
   ]
  },
  {
   "cell_type": "markdown",
   "metadata": {},
   "source": [
    "|Model name|API model_id|Maximum input tokens|Number of dimensions|More information|\n",
    "|-|-|-|-|-|\n",
    "|slate-125m-english-rtrvr|ibm/slate-125m-english-rtrvr|512|768|[model card](https://dataplatform.cloud.ibm.com/docs/content/wsj/analyze-data/fm-slate-125m-english-rtrvr-model-card.html?utm_source=skills_network&utm_content=in_lab_content_link&utm_id=Lab-Embed+documents+with+watsonx%E2%80%99s+embedding_v1_1721662184&context=wx)|\n"
   ]
  },
  {
   "cell_type": "markdown",
   "metadata": {},
   "source": [
    "### Build model\n"
   ]
  },
  {
   "cell_type": "markdown",
   "metadata": {},
   "source": [
    "The following code shows how to build the `slate-125m-english-rtrvr` model from IBM watsonx.ai API.\n"
   ]
  },
  {
   "cell_type": "markdown",
   "metadata": {},
   "source": [
    "First, import the necessary dependencies. \n",
    "- `WatsonxEmbeddings` is a class/dependence that can be used to form an embedding model object.\n",
    "- `EmbedTextParamsMetaNames` is a dependence that controls the embedding parameters.\n"
   ]
  },
  {
   "cell_type": "code",
   "execution_count": 11,
   "metadata": {},
   "outputs": [],
   "source": [
    "from ibm_watsonx_ai.metanames import EmbedTextParamsMetaNames\n",
    "from langchain_ibm import WatsonxEmbeddings"
   ]
  },
  {
   "cell_type": "code",
   "execution_count": 12,
   "metadata": {},
   "outputs": [],
   "source": [
    "embed_params = {\n",
    "    EmbedTextParamsMetaNames.TRUNCATE_INPUT_TOKENS: 3,\n",
    "    EmbedTextParamsMetaNames.RETURN_OPTIONS: {\"input_text\": True},\n",
    "}\n",
    "\n",
    "watsonx_embedding = WatsonxEmbeddings(\n",
    "    model_id=\"ibm/slate-125m-english-rtrvr\",\n",
    "    url=\"https://us-south.ml.cloud.ibm.com\",\n",
    "    project_id=\"skills-network\",\n",
    "    params=embed_params,\n",
    ")"
   ]
  },
  {
   "cell_type": "markdown",
   "metadata": {},
   "source": [
    "### Query embeddings\n"
   ]
  },
  {
   "cell_type": "markdown",
   "metadata": {},
   "source": [
    "Now, create an embedding based on a single sentence, which can be treated as a query.\n"
   ]
  },
  {
   "cell_type": "markdown",
   "metadata": {},
   "source": [
    "Use the `embed_query` method.\n"
   ]
  },
  {
   "cell_type": "code",
   "execution_count": 13,
   "metadata": {},
   "outputs": [],
   "source": [
    "query = \"How are you?\"\n",
    "\n",
    "query_result = watsonx_embedding.embed_query(query)"
   ]
  },
  {
   "cell_type": "markdown",
   "metadata": {},
   "source": [
    "Let's see the length/dimension of this embedding.\n"
   ]
  },
  {
   "cell_type": "code",
   "execution_count": 14,
   "metadata": {},
   "outputs": [
    {
     "data": {
      "text/plain": [
       "768"
      ]
     },
     "execution_count": 14,
     "metadata": {},
     "output_type": "execute_result"
    }
   ],
   "source": [
    "len(query_result)"
   ]
  },
  {
   "cell_type": "markdown",
   "metadata": {},
   "source": [
    "It has a dimension of `768`, which aligns with the model description. \n"
   ]
  },
  {
   "cell_type": "markdown",
   "metadata": {},
   "source": [
    "Next, take a look at the first five results from the embeddings.\n"
   ]
  },
  {
   "cell_type": "code",
   "execution_count": 15,
   "metadata": {},
   "outputs": [
    {
     "data": {
      "text/plain": [
       "[-0.06722455, -0.023730014, 0.017487874, -0.013195301, -0.03958462]"
      ]
     },
     "execution_count": 15,
     "metadata": {},
     "output_type": "execute_result"
    }
   ],
   "source": [
    "query_result[:5]"
   ]
  },
  {
   "cell_type": "markdown",
   "metadata": {},
   "source": [
    "### Document embeddings\n"
   ]
  },
  {
   "cell_type": "markdown",
   "metadata": {},
   "source": [
    "After creating the query embeddings, you will be guided on how to create embeddings from documents, which are a list a text chunks.\n"
   ]
  },
  {
   "cell_type": "markdown",
   "metadata": {},
   "source": [
    "Use `embed_documents`. The parameter `chunks` should be a list of text. Here, chunks is a list of documents you get from before after splitting the whole document.\n"
   ]
  },
  {
   "cell_type": "code",
   "execution_count": 16,
   "metadata": {},
   "outputs": [],
   "source": [
    "doc_result = watsonx_embedding.embed_documents(chunks)"
   ]
  },
  {
   "cell_type": "markdown",
   "metadata": {},
   "source": [
    "As each piece of text is embedded into a vector, so the length of the `doc_result` should be the same as the length of chunks.\n"
   ]
  },
  {
   "cell_type": "code",
   "execution_count": 17,
   "metadata": {},
   "outputs": [
    {
     "data": {
      "text/plain": [
       "570"
      ]
     },
     "execution_count": 17,
     "metadata": {},
     "output_type": "execute_result"
    }
   ],
   "source": [
    "len(doc_result)"
   ]
  },
  {
   "cell_type": "markdown",
   "metadata": {},
   "source": [
    "Now, take a look at the first five results from the embeddings of the first piece of text.\n"
   ]
  },
  {
   "cell_type": "code",
   "execution_count": 18,
   "metadata": {},
   "outputs": [
    {
     "data": {
      "text/plain": [
       "[-0.009708217, -0.001638192, -0.013401185, -0.0056565236, -0.03127847]"
      ]
     },
     "execution_count": 18,
     "metadata": {},
     "output_type": "execute_result"
    }
   ],
   "source": [
    "doc_result[0][:5]"
   ]
  },
  {
   "cell_type": "markdown",
   "metadata": {},
   "source": [
    "Check the embedding dimension to see if it is also 768.\n"
   ]
  },
  {
   "cell_type": "code",
   "execution_count": 19,
   "metadata": {},
   "outputs": [
    {
     "data": {
      "text/plain": [
       "768"
      ]
     },
     "execution_count": 19,
     "metadata": {},
     "output_type": "execute_result"
    }
   ],
   "source": [
    "len(doc_result[0])"
   ]
  },
  {
   "cell_type": "markdown",
   "metadata": {},
   "source": [
    "## Hugging Face embedding model\n"
   ]
  },
  {
   "cell_type": "markdown",
   "metadata": {},
   "source": [
    "### Model description\n"
   ]
  },
  {
   "cell_type": "markdown",
   "metadata": {},
   "source": [
    "In this section, you will use the `all-mpnet-base-v2` from HuggingFace as an example embedding model.\n",
    "\n",
    "It is a sentence-transformers model. It maps sentences and paragraphs to a 768-dimensional dense vector space and can be used for tasks like clustering or semantic search. It used the pre-trained `Microsoft/money-base` model and fine-tuned it on a 1B sentence pairs dataset. For more information, please refer to [here](https://huggingface.co/sentence-transformers/all-mpnet-base-v2).\n"
   ]
  },
  {
   "cell_type": "markdown",
   "metadata": {},
   "source": [
    "### Build model\n"
   ]
  },
  {
   "cell_type": "markdown",
   "metadata": {},
   "source": [
    "To build the model, you need to import the `HuggingFaceEmbeddings` dependence first.\n"
   ]
  },
  {
   "cell_type": "code",
   "execution_count": 20,
   "metadata": {},
   "outputs": [],
   "source": [
    "from langchain_community.embeddings import HuggingFaceEmbeddings"
   ]
  },
  {
   "cell_type": "markdown",
   "metadata": {},
   "source": [
    "Then, you specify the model name.\n"
   ]
  },
  {
   "cell_type": "code",
   "execution_count": 21,
   "metadata": {},
   "outputs": [],
   "source": [
    "model_name = \"sentence-transformers/all-mpnet-base-v2\""
   ]
  },
  {
   "cell_type": "markdown",
   "metadata": {},
   "source": [
    "Here we create a embedding model object.\n"
   ]
  },
  {
   "cell_type": "code",
   "execution_count": 22,
   "metadata": {},
   "outputs": [
    {
     "name": "stderr",
     "output_type": "stream",
     "text": [
      "/tmp/ipykernel_580/103517808.py:1: LangChainDeprecationWarning: The class `HuggingFaceEmbeddings` was deprecated in LangChain 0.2.2 and will be removed in 0.3.0. An updated version of the class exists in the langchain-huggingface package and should be used instead. To use it run `pip install -U langchain-huggingface` and import as `from langchain_huggingface import HuggingFaceEmbeddings`.\n",
      "  huggingface_embedding = HuggingFaceEmbeddings(model_name=model_name)\n"
     ]
    },
    {
     "data": {
      "application/vnd.jupyter.widget-view+json": {
       "model_id": "cd82887a25eb499d97993050e47362f6",
       "version_major": 2,
       "version_minor": 0
      },
      "text/plain": [
       "modules.json:   0%|          | 0.00/349 [00:00<?, ?B/s]"
      ]
     },
     "metadata": {},
     "output_type": "display_data"
    },
    {
     "data": {
      "application/vnd.jupyter.widget-view+json": {
       "model_id": "0b088b31ea5c417bb6df75866d02cb5f",
       "version_major": 2,
       "version_minor": 0
      },
      "text/plain": [
       "config_sentence_transformers.json:   0%|          | 0.00/116 [00:00<?, ?B/s]"
      ]
     },
     "metadata": {},
     "output_type": "display_data"
    },
    {
     "data": {
      "application/vnd.jupyter.widget-view+json": {
       "model_id": "927fc2a34617463ea00d588e994b242e",
       "version_major": 2,
       "version_minor": 0
      },
      "text/plain": [
       "README.md:   0%|          | 0.00/10.6k [00:00<?, ?B/s]"
      ]
     },
     "metadata": {},
     "output_type": "display_data"
    },
    {
     "data": {
      "application/vnd.jupyter.widget-view+json": {
       "model_id": "8f064cf61bab4b6a8cbbe20407e492c8",
       "version_major": 2,
       "version_minor": 0
      },
      "text/plain": [
       "sentence_bert_config.json:   0%|          | 0.00/53.0 [00:00<?, ?B/s]"
      ]
     },
     "metadata": {},
     "output_type": "display_data"
    },
    {
     "data": {
      "application/vnd.jupyter.widget-view+json": {
       "model_id": "9f3fc55fb7e44b1cb5860d2039679c65",
       "version_major": 2,
       "version_minor": 0
      },
      "text/plain": [
       "config.json:   0%|          | 0.00/571 [00:00<?, ?B/s]"
      ]
     },
     "metadata": {},
     "output_type": "display_data"
    },
    {
     "data": {
      "application/vnd.jupyter.widget-view+json": {
       "model_id": "b556123ea19847f7905d4d09a0112556",
       "version_major": 2,
       "version_minor": 0
      },
      "text/plain": [
       "model.safetensors:   0%|          | 0.00/438M [00:00<?, ?B/s]"
      ]
     },
     "metadata": {},
     "output_type": "display_data"
    },
    {
     "data": {
      "application/vnd.jupyter.widget-view+json": {
       "model_id": "907e8bee6f114ae9a732ea232a7c0106",
       "version_major": 2,
       "version_minor": 0
      },
      "text/plain": [
       "tokenizer_config.json:   0%|          | 0.00/363 [00:00<?, ?B/s]"
      ]
     },
     "metadata": {},
     "output_type": "display_data"
    },
    {
     "data": {
      "application/vnd.jupyter.widget-view+json": {
       "model_id": "cfba17b2b46544618072ef71478dd571",
       "version_major": 2,
       "version_minor": 0
      },
      "text/plain": [
       "vocab.txt:   0%|          | 0.00/232k [00:00<?, ?B/s]"
      ]
     },
     "metadata": {},
     "output_type": "display_data"
    },
    {
     "data": {
      "application/vnd.jupyter.widget-view+json": {
       "model_id": "538da78a10c640b983d23ad76e433977",
       "version_major": 2,
       "version_minor": 0
      },
      "text/plain": [
       "tokenizer.json:   0%|          | 0.00/466k [00:00<?, ?B/s]"
      ]
     },
     "metadata": {},
     "output_type": "display_data"
    },
    {
     "data": {
      "application/vnd.jupyter.widget-view+json": {
       "model_id": "10c14159b9b64f92a73bb1ee7f559f75",
       "version_major": 2,
       "version_minor": 0
      },
      "text/plain": [
       "special_tokens_map.json:   0%|          | 0.00/239 [00:00<?, ?B/s]"
      ]
     },
     "metadata": {},
     "output_type": "display_data"
    },
    {
     "data": {
      "application/vnd.jupyter.widget-view+json": {
       "model_id": "8f05ad8649a846fb84b5a7f63467fd0a",
       "version_major": 2,
       "version_minor": 0
      },
      "text/plain": [
       "1_Pooling/config.json:   0%|          | 0.00/190 [00:00<?, ?B/s]"
      ]
     },
     "metadata": {},
     "output_type": "display_data"
    }
   ],
   "source": [
    "huggingface_embedding = HuggingFaceEmbeddings(model_name=model_name)"
   ]
  },
  {
   "cell_type": "markdown",
   "metadata": {},
   "source": [
    "### Query embeddings\n"
   ]
  },
  {
   "cell_type": "markdown",
   "metadata": {},
   "source": [
    "Let's create the embeddings from the same sentence, but using the Hugging Face embedding model. \n"
   ]
  },
  {
   "cell_type": "code",
   "execution_count": 23,
   "metadata": {},
   "outputs": [],
   "source": [
    "query = \"How are you?\""
   ]
  },
  {
   "cell_type": "code",
   "execution_count": 24,
   "metadata": {},
   "outputs": [],
   "source": [
    "query_result = huggingface_embedding.embed_query(query)"
   ]
  },
  {
   "cell_type": "code",
   "execution_count": 25,
   "metadata": {},
   "outputs": [
    {
     "data": {
      "text/plain": [
       "[0.02710617519915104,\n",
       " 0.011331887915730476,\n",
       " -0.001952415332198143,\n",
       " -0.036951299756765366,\n",
       " 0.01776490919291973]"
      ]
     },
     "execution_count": 25,
     "metadata": {},
     "output_type": "execute_result"
    }
   ],
   "source": [
    "query_result[:5]"
   ]
  },
  {
   "cell_type": "markdown",
   "metadata": {},
   "source": [
    "Do you see the differences between embeddings that are created by the watsonx embedding model and the Hugging Face embedding model?\n"
   ]
  },
  {
   "cell_type": "markdown",
   "metadata": {},
   "source": [
    "### Document embeddings\n"
   ]
  },
  {
   "cell_type": "markdown",
   "metadata": {},
   "source": [
    "Next, you can do the same for creating embeddings from documents.\n"
   ]
  },
  {
   "cell_type": "code",
   "execution_count": 26,
   "metadata": {},
   "outputs": [
    {
     "data": {
      "text/plain": [
       "[0.04028427228331566,\n",
       " 0.030196484178304672,\n",
       " -0.006393850315362215,\n",
       " 0.06266555190086365,\n",
       " -0.007770839612931013]"
      ]
     },
     "execution_count": 26,
     "metadata": {},
     "output_type": "execute_result"
    }
   ],
   "source": [
    "doc_result = huggingface_embedding.embed_documents(chunks)\n",
    "doc_result[0][:5]"
   ]
  },
  {
   "cell_type": "code",
   "execution_count": 27,
   "metadata": {},
   "outputs": [
    {
     "data": {
      "text/plain": [
       "768"
      ]
     },
     "execution_count": 27,
     "metadata": {},
     "output_type": "execute_result"
    }
   ],
   "source": [
    "len(doc_result[0])"
   ]
  },
  {
   "cell_type": "markdown",
   "metadata": {},
   "source": [
    "# Exercises\n"
   ]
  },
  {
   "cell_type": "markdown",
   "metadata": {},
   "source": [
    "### Exercise 1 - Using another watsonx embedding model\n",
    "Watsonx.ai also supports other embedding models, for which you can find more information [here](https://dataplatform.cloud.ibm.com/docs/content/wsj/analyze-data/fm-slate-30m-english-rtrvr-model-card.html?utm_source=skills_network&utm_content=in_lab_content_link&utm_id=Lab-Embed+documents+with+watsonx%E2%80%99s+embedding_v1_1721662184&context=wx). Can you try to use another embedding model to create embeddings for the document?\n"
   ]
  },
  {
   "cell_type": "code",
   "execution_count": 28,
   "metadata": {},
   "outputs": [
    {
     "data": {
      "text/plain": [
       "[0.020980414, 0.0008662629, 0.018803628, 0.028992115, -0.003207208]"
      ]
     },
     "execution_count": 28,
     "metadata": {},
     "output_type": "execute_result"
    }
   ],
   "source": [
    "# Your code here\n",
    "\n",
    "from ibm_watsonx_ai.metanames import EmbedTextParamsMetaNames\n",
    "from langchain_ibm import WatsonxEmbeddings\n",
    "\n",
    "embed_params = {\n",
    "    EmbedTextParamsMetaNames.TRUNCATE_INPUT_TOKENS: 3,\n",
    "    EmbedTextParamsMetaNames.RETURN_OPTIONS: {\"input_text\": True},\n",
    "}\n",
    "\n",
    "watsonx_embedding = WatsonxEmbeddings(\n",
    "    model_id=\"ibm/slate-30m-english-rtrvr\",\n",
    "    url=\"https://us-south.ml.cloud.ibm.com\",\n",
    "    project_id=\"skills-network\",\n",
    "    params=embed_params,\n",
    ")\n",
    "\n",
    "doc_result = watsonx_embedding.embed_documents(chunks)\n",
    "\n",
    "doc_result[0][:5]"
   ]
  },
  {
   "cell_type": "markdown",
   "metadata": {},
   "source": [
    "<details>\n",
    "    <summary>Click here for Solution</summary>\n",
    "\n",
    "```python\n",
    "\n",
    "from ibm_watsonx_ai.metanames import EmbedTextParamsMetaNames\n",
    "from langchain_ibm import WatsonxEmbeddings\n",
    "\n",
    "embed_params = {\n",
    "    EmbedTextParamsMetaNames.TRUNCATE_INPUT_TOKENS: 3,\n",
    "    EmbedTextParamsMetaNames.RETURN_OPTIONS: {\"input_text\": True},\n",
    "}\n",
    "\n",
    "watsonx_embedding = WatsonxEmbeddings(\n",
    "    model_id=\"ibm/slate-30m-english-rtrvr\",\n",
    "    url=\"https://us-south.ml.cloud.ibm.com\",\n",
    "    project_id=\"skills-network\",\n",
    "    params=embed_params,\n",
    ")\n",
    "\n",
    "doc_result = watsonx_embedding.embed_documents(chunks)\n",
    "\n",
    "doc_result[0][:5]\n",
    "\n",
    "```\n",
    "\n",
    "</details>\n"
   ]
  },
  {
   "cell_type": "markdown",
   "metadata": {},
   "source": [
    "## Authors\n"
   ]
  },
  {
   "cell_type": "markdown",
   "metadata": {},
   "source": [
    "[Kang Wang](https://author.skills.network/instructors/kang_wang)\n",
    "\n",
    "Kang Wang is a Data Scientist in IBM. He is also a PhD Candidate in the University of Waterloo.\n"
   ]
  },
  {
   "cell_type": "markdown",
   "metadata": {},
   "source": [
    "### Other Contributors\n"
   ]
  },
  {
   "cell_type": "markdown",
   "metadata": {},
   "source": [
    "[Joseph Santarcangelo](https://author.skills.network/instructors/joseph_santarcangelo)\n",
    "\n",
    "Joseph has a Ph.D. in Electrical Engineering, his research focused on using machine learning, signal processing, and computer vision to determine how videos impact human cognition. Joseph has been working for IBM since he completed his PhD.\n",
    "\n",
    "[Hailey Quach](https://author.skills.network/instructors/hailey_quach)\n",
    "\n",
    "Hailey is a Data Scientist Intern at IBM. She is also pursuing a BSc in Computer Science, Honors at Concordia University, Montreal.\n"
   ]
  },
  {
   "cell_type": "markdown",
   "metadata": {},
   "source": [
    "```{## Change Log}\n",
    "```\n"
   ]
  },
  {
   "cell_type": "markdown",
   "metadata": {},
   "source": [
    "```{|Date (YYYY-MM-DD)|Version|Changed By|Change Description||-|-|-|-||2024-07-22|0.1|Kang Wang|Create the lab|}\n",
    "```\n"
   ]
  },
  {
   "cell_type": "markdown",
   "metadata": {},
   "source": [
    "Copyright © IBM Corporation. All rights reserved.\n",
    "\n"
   ]
  }
 ],
 "metadata": {
  "kernelspec": {
   "display_name": "Python 3 (ipykernel)",
   "language": "python",
   "name": "python3"
  },
  "language_info": {
   "codemirror_mode": {
    "name": "ipython",
    "version": 3
   },
   "file_extension": ".py",
   "mimetype": "text/x-python",
   "name": "python",
   "nbconvert_exporter": "python",
   "pygments_lexer": "ipython3",
   "version": "3.11.9"
  },
  "prev_pub_hash": "65f750ab814216e3147edda42117ed7e41055483dd85447ccc401a5a9bd9a612"
 },
 "nbformat": 4,
 "nbformat_minor": 4
}
