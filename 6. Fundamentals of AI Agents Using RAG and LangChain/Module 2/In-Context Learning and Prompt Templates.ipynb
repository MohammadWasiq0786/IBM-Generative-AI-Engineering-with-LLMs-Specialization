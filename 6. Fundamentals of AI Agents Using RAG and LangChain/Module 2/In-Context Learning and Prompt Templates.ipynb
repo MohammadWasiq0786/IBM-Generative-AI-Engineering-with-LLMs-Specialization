{
 "cells": [
  {
   "cell_type": "markdown",
   "metadata": {},
   "source": [
    "<p style=\"text-align:center\">\n",
    "    <a href=\"https://skills.network\" target=\"_blank\">\n",
    "    <img src=\"https://cf-courses-data.s3.us.cloud-object-storage.appdomain.cloud/assets/logos/SN_web_lightmode.png\" width=\"200\" alt=\"Skills Network Logo\"  />\n",
    "    </a>\n",
    "</p>\n"
   ]
  },
  {
   "cell_type": "markdown",
   "metadata": {},
   "source": [
    "# **In-Context Engineering and Prompt Templates**\n"
   ]
  },
  {
   "cell_type": "markdown",
   "metadata": {},
   "source": [
    "Estimated time needed: **30** minutes\n"
   ]
  },
  {
   "cell_type": "markdown",
   "metadata": {},
   "source": [
    "## Overview\n"
   ]
  },
  {
   "cell_type": "markdown",
   "metadata": {},
   "source": [
    "You're stepping into the world of prompt engineering, where each command you craft has the power to guide intelligent LLM systems toward specific outcomes. In this tutorial, you will explore the foundational aspects of prompt engineering, dive into advanced techniques of in-context learning such as few-shot and self-consistent learning, and learn how to effectively use tools like Langchain.\n",
    "\n",
    "We'll start by understanding the basics—how to formulate prompts that communicate effectively with AI. From there, we'll explore how the Langchain prompt template can simplify and enhance this process, making it more structured and efficient.\n",
    "\n",
    "As you progress, you'll learn to apply these skills in practical scenarios, creating sophisticated applications like QA bots and text summarization tools. By using the Langchain prompt template, you'll see firsthand how structured prompting can streamline the development of these applications, transforming complex requirements into clear, concise tasks for AI.\n"
   ]
  },
  {
   "cell_type": "markdown",
   "metadata": {},
   "source": [
    "<img src=\"https://cf-courses-data.s3.us.cloud-object-storage.appdomain.cloud/ai8G4tOU4mksEYfv5wsghA/prompt%20engineering.png\" width=\"50%\" alt=\"indexing\"/>\n"
   ]
  },
  {
   "cell_type": "markdown",
   "metadata": {},
   "source": [
    "By the end of this tutorial, you'll not only master the different techniques of prompt engineering but also acquire hands-on experience in applying these techniques to real-world problems, ensuring you're well-prepared to harness the full potential of AI in various settings.\n"
   ]
  },
  {
   "cell_type": "markdown",
   "metadata": {},
   "source": [
    "## __Table of Contents__\n",
    "\n",
    "<ol>\n",
    "    <li><a href=\"#Objectives\">Objectives</a></li>\n",
    "    <li>\n",
    "        <a href=\"#Setup\">Setup</a>\n",
    "        <ol>\n",
    "            <li><a href=\"#Installing-required-libraries\">Installing required libraries</a></li>\n",
    "            <li><a href=\"#Importing-required-libraries\">Importing required libraries</a></li>\n",
    "            <li><a href=\"#Setup-LLM\">Setup LLM</a></li>\n",
    "        </ol>\n",
    "    </li>\n",
    "    <li>\n",
    "        <a href=\"#Prompt-engineering\">Prompt engineering</a>\n",
    "        <ol>\n",
    "            <li><a href=\"#First-basic-prompt\">First basic prompt</a></li>\n",
    "            <li><a href=\"#Zero-shot-prompt\">Zero-shot prompt</a></li>\n",
    "            <li><a href=\"#One-shot-prompt\">One-shot prompt</a></li>\n",
    "            <li><a href=\"#Few-shot-prompt\">Few-shot prompt</a></li>\n",
    "            <li><a href=\"#Chain-of-thought-(CoT)-prompting\">Chain-of-thought (CoT) prompting</a></li>\n",
    "            <li><a href=\"#Self-consistency\">Self-consistency</a></li>\n",
    "        </ol>\n",
    "    </li>\n",
    "    <li>\n",
    "        <a href=\"#Applications\">Applications</a>\n",
    "        <ol>\n",
    "            <li><a href=\"#Prompt-template\">Prompt template</a></li>\n",
    "            <li><a href=\"#Text-summarization\">Text summarization</a></li>\n",
    "            <li><a href=\"#Question-answering\">Question answering</a></li>\n",
    "            <li><a href=\"#Text-classification\">Text classification</a></li>\n",
    "            <li><a href=\"#Code-generation\">Code generation</a></li>\n",
    "            <li><a href=\"#Role-playing\">Role playing</a></li>\n",
    "        </ol>\n",
    "    </li>\n",
    "</ol>\n",
    "\n",
    "<a href=\"#Exercises\">Exercises</a>\n",
    "<ol>\n",
    "    <li><a href=\"#Exercise-1:-Change-parameters-for-the-LLM\">Exercise 1: Change parameters for the LLM</a></li>\n",
    "    <li><a href=\"#Exercise-2:-Observe-how-LLM-thinks\">Exercise 2: Observe how LLM thinks</a></li>\n",
    "    <li><a href=\"#Exercise-3:-Revise-the-text-classification-agent-to-one-shot-learning\">Exercise 3: Revise the text classification agent to one-shot learning</a></li>\n",
    "</ol>\n"
   ]
  },
  {
   "cell_type": "markdown",
   "metadata": {},
   "source": [
    "## Objectives\n",
    "\n",
    "After completing this lab, you will be able to:\n",
    "\n",
    "- **Understand the basics of prompt engineering**: Gain a solid foundation in how to effectively communicate with LLM using prompts, setting the stage for more advanced techniques.\n",
    "\n",
    "- **Master advanced prompt techniques**: Learn and apply advanced prompt engineering techniques such as few-shot and self-consistent learning to optimize the LLM's response.\n",
    "\n",
    "- **Utilize LangChain prompt template**: Become proficient in using LangChain's prompt template to structure and optimize your interactions with LLM.\n",
    "\n",
    "- **Develop practical LLM agents**: Acquire the skills to create and implement agents such as QA bots and text summarization using the Langchain prompt template, translating theoretical knowledge into practical solutions.\n"
   ]
  },
  {
   "cell_type": "markdown",
   "metadata": {},
   "source": [
    "----\n"
   ]
  },
  {
   "cell_type": "markdown",
   "metadata": {},
   "source": [
    "## Setup\n"
   ]
  },
  {
   "cell_type": "markdown",
   "metadata": {},
   "source": [
    "For this lab, you will be using the following libraries:\n",
    "\n",
    "*   [`ibm-watsonx-ai`](https://ibm.github.io/watson-machine-learning-sdk/index.html) for using LLMs from IBM's watsonx.ai.\n",
    "*   [`langchain`](https://www.langchain.com/) for using langchain's different chain and prompt functions.\n",
    "*   [`langchain-ibm`](https://python.langchain.com/v0.1/docs/integrations/llms/ibm_watsonx/) provides integration between langchain and ibm-watsonx-ai.\n"
   ]
  },
  {
   "cell_type": "markdown",
   "metadata": {},
   "source": [
    "### Installing required libraries\n",
    "\n",
    "The following required libraries are __not__ preinstalled in the Skills Network Labs environment. __You must run the following cell__ to install them:\n",
    "\n",
    "**Note:** The version has been pinned here to specify the version. It's recommended that you do this as well. Even though the library will be updated in the future, the library could still support this lab work.\n",
    "\n",
    "This might take approximately 1-2 minutes.\n",
    "\n",
    "`%%capture` has been used to capture the installation, you won't see the output process. But once the installation is done, you will see a number beside the cell.\n"
   ]
  },
  {
   "cell_type": "code",
   "execution_count": 1,
   "metadata": {},
   "outputs": [],
   "source": [
    "%%capture\n",
    "!pip install \"ibm-watsonx-ai==0.2.6\"\n",
    "!pip install \"langchain==0.1.16\" \n",
    "!pip install \"langchain-ibm==0.1.4\""
   ]
  },
  {
   "cell_type": "markdown",
   "metadata": {},
   "source": [
    "### Importing required libraries\n",
    "\n",
    "_It is recommended that you import all required libraries in one place (here):_\n"
   ]
  },
  {
   "cell_type": "code",
   "execution_count": 2,
   "metadata": {},
   "outputs": [],
   "source": [
    "# You can also use this section to suppress warnings generated by your code:\n",
    "def warn(*args, **kwargs):\n",
    "    pass\n",
    "import warnings\n",
    "warnings.warn = warn\n",
    "warnings.filterwarnings('ignore')\n",
    "\n",
    "from ibm_watsonx_ai.foundation_models import Model\n",
    "from ibm_watsonx_ai.metanames import GenTextParamsMetaNames as GenParams\n",
    "from ibm_watsonx_ai.foundation_models.utils.enums import ModelTypes\n",
    "from ibm_watson_machine_learning.foundation_models.extensions.langchain import WatsonxLLM\n",
    "from langchain_core.prompts import PromptTemplate\n",
    "from langchain.chains import LLMChain"
   ]
  },
  {
   "cell_type": "markdown",
   "metadata": {},
   "source": [
    "### Setup LLM\n"
   ]
  },
  {
   "cell_type": "markdown",
   "metadata": {},
   "source": [
    "In this section, you will build an LLM model from IBM watsonx.ai. \n",
    "\n",
    "The following code initializes a Mixtral model on IBM's watsonx.ai platform and wraps it into a function that could allow repeat use.\n"
   ]
  },
  {
   "cell_type": "markdown",
   "metadata": {},
   "source": [
    "Some key parameters are explained here:\n",
    "- `model_id` specifies which model you want to use. There are various model options available; refer to the [Foundation Models](https://ibm.github.io/watsonx-ai-python-sdk/foundation_models.html) documentation for more options. In this tutorial, you'll use the `mixtral-8x7b-instruct-v01` model.\n",
    "- `parameters` define the model's configuration. Set five commonly used parameters for this tutorial. To explore additional commonly used parameters, you can run the code `GenParams().get_example_values()` to see. If no custom parameters are passed to the function, the model will use `default_params`.\n",
    "- `credentials` and `project_id` are necessary parameters to successfully run LLMs from watsonx.ai. (Keep `credentials` and `project_id` as they are now so that you do not need to create your own keys to run models. This supports you in running the model inside this lab environment. However, if you want to run the model locally, refer to this [tutorial](https://medium.com/the-power-of-ai/ibm-watsonx-ai-the-interface-and-api-e8e1c7227358) for creating your own keys.\n",
    "- `Model()` is used to wrap the parameters for the model and then call it with `WatsonxLLM()`.\n"
   ]
  },
  {
   "cell_type": "markdown",
   "metadata": {},
   "source": [
    "Run the following code, you will initialize a LLM model.\n"
   ]
  },
  {
   "cell_type": "code",
   "execution_count": 3,
   "metadata": {},
   "outputs": [],
   "source": [
    "def llm_model(prompt_txt, params=None):\n",
    "    model_id = 'mistralai/mixtral-8x7b-instruct-v01'\n",
    "\n",
    "    default_params = {\n",
    "        \"max_new_tokens\": 256,\n",
    "        \"min_new_tokens\": 0,\n",
    "        \"temperature\": 0.5,\n",
    "        \"top_p\": 0.2,\n",
    "        \"top_k\": 1\n",
    "    }\n",
    "\n",
    "    if params:\n",
    "        default_params.update(params)\n",
    "\n",
    "    parameters = {\n",
    "        GenParams.MAX_NEW_TOKENS: default_params[\"max_new_tokens\"],  # this controls the maximum number of tokens in the generated output\n",
    "        GenParams.MIN_NEW_TOKENS: default_params[\"min_new_tokens\"], # this controls the minimum number of tokens in the generated output\n",
    "        GenParams.TEMPERATURE: default_params[\"temperature\"], # this randomness or creativity of the model's responses\n",
    "        GenParams.TOP_P: default_params[\"top_p\"],\n",
    "        GenParams.TOP_K: default_params[\"top_k\"]\n",
    "    }\n",
    "    \n",
    "    credentials = {\n",
    "        \"url\": \"https://us-south.ml.cloud.ibm.com\"\n",
    "    }\n",
    "    \n",
    "    project_id = \"skills-network\"\n",
    "    \n",
    "    model = Model(\n",
    "        model_id=model_id,\n",
    "        params=parameters,\n",
    "        credentials=credentials,\n",
    "        project_id=project_id\n",
    "    )\n",
    "    \n",
    "    mixtral_llm = WatsonxLLM(model=model)\n",
    "    response  = mixtral_llm.invoke(prompt_txt)\n",
    "    return response"
   ]
  },
  {
   "cell_type": "markdown",
   "metadata": {},
   "source": [
    "Let's run the following code to see some other commonly used parameters and their default value.\n"
   ]
  },
  {
   "cell_type": "code",
   "execution_count": 4,
   "metadata": {},
   "outputs": [
    {
     "data": {
      "text/plain": [
       "{'decoding_method': 'sample',\n",
       " 'length_penalty': {'decay_factor': 2.5, 'start_index': 5},\n",
       " 'temperature': 0.5,\n",
       " 'top_p': 0.2,\n",
       " 'top_k': 1,\n",
       " 'random_seed': 33,\n",
       " 'repetition_penalty': 2,\n",
       " 'min_new_tokens': 50,\n",
       " 'max_new_tokens': 200,\n",
       " 'stop_sequences': ['fail'],\n",
       " ' time_limit': 600000,\n",
       " 'truncate_input_tokens': 200,\n",
       " 'return_options': {'input_text': True,\n",
       "  'generated_tokens': True,\n",
       "  'input_tokens': True,\n",
       "  'token_logprobs': True,\n",
       "  'token_ranks': False,\n",
       "  'top_n_tokens': False}}"
      ]
     },
     "execution_count": 4,
     "metadata": {},
     "output_type": "execute_result"
    }
   ],
   "source": [
    "GenParams().get_example_values()"
   ]
  },
  {
   "cell_type": "markdown",
   "metadata": {},
   "source": [
    "## Prompt engineering\n"
   ]
  },
  {
   "cell_type": "markdown",
   "metadata": {},
   "source": [
    "### First basic prompt\n"
   ]
  },
  {
   "cell_type": "markdown",
   "metadata": {},
   "source": [
    "In this example, let's introduce a basic prompt that utilizes specific parameters to guide the language model's response. You'll then define a simple prompt and retrieve the model's response,\n",
    "\n",
    "The prompt used is \"The wind is\". Let the model generate itself.\n"
   ]
  },
  {
   "cell_type": "code",
   "execution_count": 5,
   "metadata": {},
   "outputs": [
    {
     "name": "stdout",
     "output_type": "stream",
     "text": [
      "prompt: The wind is\n",
      "\n",
      "response :  howling outside, and the rain is coming down in sheets. It’s the perfect weather for a cozy night in with a good book. But what to read? If you’re looking for something to take your mind off the storm, here are five great books to curl up with on a rainy night.\n",
      "\n",
      "1. The Secret History by Donna Tartt\n",
      "\n",
      "This gripping novel tells the story of a group of classics students at an elite New England college who become embroiled in a murder conspiracy. With its richly drawn characters and atmospheric setting, The Secret History is the perfect\n",
      "\n"
     ]
    }
   ],
   "source": [
    "params = {\n",
    "    \"max_new_tokens\": 128,\n",
    "    \"min_new_tokens\": 10,\n",
    "    \"temperature\": 0.5,\n",
    "    \"top_p\": 0.2,\n",
    "    \"top_k\": 1\n",
    "}\n",
    "\n",
    "prompt = \"The wind is\"\n",
    "\n",
    "response = llm_model(prompt, params)\n",
    "print(f\"prompt: {prompt}\\n\")\n",
    "print(f\"response : {response}\\n\")"
   ]
  },
  {
   "cell_type": "markdown",
   "metadata": {},
   "source": [
    "As you can see from the response, the model continues generating content following the initial prompt, \"The wind is\". You might notice that the response appears truncated or incomplete. This is because you have set the `max_new_tokens,` which restricts the number of tokens the model can generate.\n",
    "\n",
    "Try to adjust the parameters and observe the difference in the response.\n"
   ]
  },
  {
   "cell_type": "markdown",
   "metadata": {},
   "source": [
    "### Zero-shot prompt\n"
   ]
  },
  {
   "cell_type": "markdown",
   "metadata": {},
   "source": [
    "Here is an example of a zero-shot prompt. \n",
    "\n",
    "Zero-shot learning is crucial for testing a model's ability to apply its pre-trained knowledge to new, unseen tasks without additional training. This capability is valuable for gauging the model's generalization skills.\n",
    "\n",
    "In this example, let's demonstrate a zero-shot learning scenario using a prompt that asks the model to classify a statement without any prior specific training on similar tasks. The prompt requests the model to assess the truthfulness of the statement: \"The Eiffel Tower is located in Berlin.\". After defining the prompt, you'll execute it with default parameters and print the response.\n",
    "\n",
    "This approach helps you understand how well the model can handle direct questions based on its underlying knowledge and reasoning abilities.\n"
   ]
  },
  {
   "cell_type": "markdown",
   "metadata": {},
   "source": [
    "Try running the prompt to see the model's capacity to correctly analyze and respond to factual inaccuracies.\n"
   ]
  },
  {
   "cell_type": "code",
   "execution_count": 6,
   "metadata": {},
   "outputs": [
    {
     "name": "stdout",
     "output_type": "stream",
     "text": [
      "prompt: Classify the following statement as true or false: \n",
      "            'The Eiffel Tower is located in Berlin.'\n",
      "\n",
      "            Answer:\n",
      "\n",
      "\n",
      "response :             False. The Eiffel Tower is located in Paris, France, not Berlin, Germany.\n",
      "\n"
     ]
    }
   ],
   "source": [
    "prompt = \"\"\"Classify the following statement as true or false: \n",
    "            'The Eiffel Tower is located in Berlin.'\n",
    "\n",
    "            Answer:\n",
    "\"\"\"\n",
    "response = llm_model(prompt, params)\n",
    "print(f\"prompt: {prompt}\\n\")\n",
    "print(f\"response : {response}\\n\")"
   ]
  },
  {
   "cell_type": "markdown",
   "metadata": {},
   "source": [
    "The model responds with the 'False' answer, which is correct. It also gives the reason for it.\n"
   ]
  },
  {
   "cell_type": "markdown",
   "metadata": {},
   "source": [
    "### One-shot prompt\n"
   ]
  },
  {
   "cell_type": "markdown",
   "metadata": {},
   "source": [
    "Here is a one-shot learning example where the model is given a single example to help guide its translation from English to French.\n",
    "\n",
    "The prompt provides a sample translation pairing, \"How is the weather today?\" translated to \"Comment est le temps aujourd'hui?\" This example serves as a guide for the model to understand the task context and desired format. The model is then tasked with translating a new sentence, \"Where is the nearest supermarket?\" without further guidance.\n"
   ]
  },
  {
   "cell_type": "code",
   "execution_count": 7,
   "metadata": {},
   "outputs": [
    {
     "name": "stdout",
     "output_type": "stream",
     "text": [
      "prompt: Here is an example of translating a sentence from English to French:\n",
      "\n",
      "            English: “How is the weather today?”\n",
      "            French: “Comment est le temps aujourd'hui?”\n",
      "            \n",
      "            Now, translate the following sentence from English to French:\n",
      "            \n",
      "            English: “Where is the nearest supermarket?”\n",
      "            \n",
      "\n",
      "\n",
      "response :             French: “Où est le supermarché le plus proche?”\n",
      "\n",
      "           \n",
      "\n"
     ]
    }
   ],
   "source": [
    "params = {\n",
    "    \"max_new_tokens\": 20,\n",
    "    \"temperature\": 0.1,\n",
    "}\n",
    "\n",
    "prompt = \"\"\"Here is an example of translating a sentence from English to French:\n",
    "\n",
    "            English: “How is the weather today?”\n",
    "            French: “Comment est le temps aujourd'hui?”\n",
    "            \n",
    "            Now, translate the following sentence from English to French:\n",
    "            \n",
    "            English: “Where is the nearest supermarket?”\n",
    "            \n",
    "\"\"\"\n",
    "response = llm_model(prompt, params)\n",
    "print(f\"prompt: {prompt}\\n\")\n",
    "print(f\"response : {response}\\n\")"
   ]
  },
  {
   "cell_type": "markdown",
   "metadata": {},
   "source": [
    "The model's response shows how it applies the structure and context provided by the initial example to translate the new sentence.\n"
   ]
  },
  {
   "cell_type": "markdown",
   "metadata": {},
   "source": [
    "Consider experimenting with different sentences or adjusting the parameters to see how these changes impact the model's translations.\n"
   ]
  },
  {
   "cell_type": "markdown",
   "metadata": {},
   "source": [
    "### Few-shot prompt\n"
   ]
  },
  {
   "cell_type": "markdown",
   "metadata": {},
   "source": [
    "Here is an example of few-shot learning by classifying emotions from text statements. \n",
    "\n",
    "Let's provide the model with three examples, each labeled with an appropriate emotion—joy, frustration, and sadness—to establish a pattern or guideline on how to categorize emotions in statements.\n",
    "\n",
    "After presenting these examples, let's challenge the model with a new statement: \"That movie was so scary I had to cover my eyes.\" The task for the model is to classify the emotion expressed in this new statement based on the learning from the provided examples. \n"
   ]
  },
  {
   "cell_type": "code",
   "execution_count": 8,
   "metadata": {},
   "outputs": [
    {
     "name": "stdout",
     "output_type": "stream",
     "text": [
      "prompt: Here are few examples of classifying emotions in statements:\n",
      "\n",
      "           Statement: 'I just won my first marathon!'\n",
      "           Emotion: Joy\n",
      "           \n",
      "           Statement: 'I can't believe I lost my keys again.'\n",
      "           Emotion: Frustration\n",
      "           \n",
      "           Statement: 'My best friend is moving to another country.'\n",
      "           Emotion: Sadness\n",
      "           \n",
      "           Now, classify the emotion in the following statement:\n",
      "           Statement: 'That movie was so scary I had to cover my eyes.’\n",
      "           \n",
      "\n",
      "\n",
      "\n",
      "response : Answer: Fear\n",
      "\n"
     ]
    }
   ],
   "source": [
    " #parameters  `max_new_tokens` to 10, which constrains the model to generate brief responses\n",
    "\n",
    "params = {\n",
    "    \"max_new_tokens\": 10,\n",
    "}\n",
    "\n",
    "prompt = \"\"\"Here are few examples of classifying emotions in statements:\n",
    "\n",
    "            Statement: 'I just won my first marathon!'\n",
    "            Emotion: Joy\n",
    "            \n",
    "            Statement: 'I can't believe I lost my keys again.'\n",
    "            Emotion: Frustration\n",
    "            \n",
    "            Statement: 'My best friend is moving to another country.'\n",
    "            Emotion: Sadness\n",
    "            \n",
    "            Now, classify the emotion in the following statement:\n",
    "            Statement: 'That movie was so scary I had to cover my eyes.’\n",
    "            \n",
    "\n",
    "\"\"\"\n",
    "response = llm_model(prompt, params)\n",
    "print(f\"prompt: {prompt}\\n\")\n",
    "print(f\"response : {response}\\n\")"
   ]
  },
  {
   "cell_type": "markdown",
   "metadata": {},
   "source": [
    "The parameters are set with `max_new_tokens` to 10, which constrains the model to generate brief responses, focusing on the essential output without elaboration.\n"
   ]
  },
  {
   "cell_type": "markdown",
   "metadata": {},
   "source": [
    "The model's response demonstrates its ability to use the provided few examples to understand and classify the emotion of the new statement effectively following the same pattern in examples.\n"
   ]
  },
  {
   "cell_type": "markdown",
   "metadata": {},
   "source": [
    "### Chain-of-thought (CoT) prompting\n"
   ]
  },
  {
   "cell_type": "markdown",
   "metadata": {},
   "source": [
    "Here is an example of the Chain-of-Thought (CoT) prompting technique, designed to guide the model through a sequence of reasoning steps to solve a problem. In this example, the problem is a simple arithmetic question: “A store had 22 apples. They sold 15 apples today and received a new delivery of 8 apples. How many apples are there now?”\n",
    "\n",
    "The CoT technique involves structuring the prompt by instructing the model to “Break down each step of your calculation.” This encourages the model to include explicit reasoning steps, mimicking human-like problem-solving processes.\n"
   ]
  },
  {
   "cell_type": "code",
   "execution_count": 9,
   "metadata": {},
   "outputs": [
    {
     "name": "stdout",
     "output_type": "stream",
     "text": [
      "prompt: Consider the problem: 'A store had 22 apples. They sold 15 apples today and got a new delivery of 8 apples. \n",
      "            How many apples are there now?’\n",
      "\n",
      "            Break down each step of your calculation\n",
      "\n",
      "\n",
      "\n",
      "response :             Step 1: Add the number of apples the store had at the beginning of the day to the number of apples they got in the new delivery.\n",
      "\n",
      "            22 apples (initial amount) + 8 apples (new delivery) = 30 apples\n",
      "\n",
      "            Step 2: Subtract the number of apples the store sold today from the total number of apples after the new delivery.\n",
      "\n",
      "            30 apples (total after new delivery) - 15 apples (sold) = 15 apples\n",
      "\n",
      "            Answer: \\boxed{15}.\n",
      "\n"
     ]
    }
   ],
   "source": [
    "params = {\n",
    "    \"max_new_tokens\": 512,\n",
    "    \"temperature\": 0.5,\n",
    "}\n",
    "\n",
    "prompt = \"\"\"Consider the problem: 'A store had 22 apples. They sold 15 apples today and got a new delivery of 8 apples. \n",
    "            How many apples are there now?’\n",
    "\n",
    "            Break down each step of your calculation\n",
    "\n",
    "\"\"\"\n",
    "response = llm_model(prompt, params)\n",
    "print(f\"prompt: {prompt}\\n\")\n",
    "print(f\"response : {response}\\n\")"
   ]
  },
  {
   "cell_type": "markdown",
   "metadata": {},
   "source": [
    "From the response of the model, you can see the prompt directs the model to:\n",
    "\n",
    "1. Add the initial number of apples to the apples received in the new delivery.\n",
    "2. Subtract the number of apples sold from the sum obtained in the first step.\n"
   ]
  },
  {
   "cell_type": "markdown",
   "metadata": {},
   "source": [
    "By breaking down the problem into specific steps, the model is better able to understand the sequence of operations required to arrive at the correct answer.\n"
   ]
  },
  {
   "cell_type": "markdown",
   "metadata": {},
   "source": [
    "### Self-consistency\n"
   ]
  },
  {
   "cell_type": "markdown",
   "metadata": {},
   "source": [
    "This example demonstrates the self-consistency technique in reasoning through multiple calculations for a single problem. The problem posed is: “When I was 6, my sister was half my age. Now I am 70, what age is my sister?”\n",
    "\n",
    "The prompt instructs, “Provide three independent calculations and explanations, then determine the most consistent result.” This encourages the model to engage in critical thinking and consistency checking, which are vital for complex decision-making processes.\n"
   ]
  },
  {
   "cell_type": "code",
   "execution_count": 10,
   "metadata": {},
   "outputs": [
    {
     "name": "stdout",
     "output_type": "stream",
     "text": [
      "prompt: When I was 6, my sister was half of my age. Now I am 70, what age is my sister?\n",
      "\n",
      "            Provide three independent calculations and explanations, then determine the most consistent result.\n",
      "\n",
      "\n",
      "\n",
      "response : Calculation 1:\n",
      "When you were 6, your sister was half your age, so she was 6/2 = 3 years old. The difference in your ages is always 3 years. Now that you are 70, your sister would be 70 - 3 = 67 years old.\n",
      "\n",
      "Final answer: Your sister is 67 years old.\n",
      "\n",
      "Calculation 2:\n",
      "Using the same logic as before, when you were 6, your sister was 3. We can express this relationship as S = 6 - A, where S is your sister's age and A is your age. When you are 70, your sister's age (S) can be calculated by substituting 70 for A in the equation: S = 70 - 6 = 64.\n",
      "\n",
      "Final answer: Your sister is 64 years old.\n",
      "\n",
      "Calculation 3:\n",
      "Let's consider a scenario where your sister's age wasn't exactly half of yours but rather a constant number of years younger than you. In this case, we could represent her age as S = A - C, where C is a constant. If we know that when you were 6, your sister was 3, then C = 6 - 3 = 3. Substituting 70 for A gives us S = 70 - 3 = 67.\n",
      "\n",
      "Final answer: Your sister is 67 years old.\n",
      "\n",
      "Ranking of calculations from best to worst:\n",
      "1. Calculation 1: This answer uses straightforward subtraction based on the provided information.\n",
      "2. Calculation 3: This answer also arrives at the correct result, although it introduces an unnecessary variable (C).\n",
      "3. Calculation 2: This answer incorrectly subtracts 6 from 70 instead of 3.\n",
      "\n",
      "Best and final answer: Your sister is 67 years old.\n",
      "\n"
     ]
    }
   ],
   "source": [
    "params = {\n",
    "    \"max_new_tokens\": 512,\n",
    "}\n",
    "\n",
    "prompt = \"\"\"When I was 6, my sister was half of my age. Now I am 70, what age is my sister?\n",
    "\n",
    "            Provide three independent calculations and explanations, then determine the most consistent result.\n",
    "\n",
    "\"\"\"\n",
    "response = llm_model(prompt, params)\n",
    "print(f\"prompt: {prompt}\\n\")\n",
    "print(f\"response : {response}\\n\")"
   ]
  },
  {
   "cell_type": "markdown",
   "metadata": {},
   "source": [
    "The model's response shows that it provides three different calculations and explanations. Each calculation attempts to derive the sister's age using different logical approaches.\n",
    "\n",
    "Self-consistency can help identify the most accurate and reliable answer in scenarios where multiple plausible solutions exist.\n"
   ]
  },
  {
   "cell_type": "markdown",
   "metadata": {},
   "source": [
    "## Applications\n"
   ]
  },
  {
   "cell_type": "markdown",
   "metadata": {},
   "source": [
    "In this section, you will show you how to use the prompt template from Langchain to create more structured and reproducible prompts. You will also learn to create some applications based on the prompt template.\n"
   ]
  },
  {
   "cell_type": "markdown",
   "metadata": {},
   "source": [
    "### Prompt template\n"
   ]
  },
  {
   "cell_type": "markdown",
   "metadata": {},
   "source": [
    "[Prompt template](https://python.langchain.com/v0.2/docs/concepts/#prompt-templates) is a key concept in langchain, it helps to translate user input and parameters into instructions for a language model. This can be used to guide a model's response, helping it understand the context and generate relevant and coherent language-based output.\n"
   ]
  },
  {
   "cell_type": "markdown",
   "metadata": {},
   "source": [
    "To use the prompt template, you need to initialize a LLM first.\n",
    "\n",
    "You can still use the `mixtral-8x7b-instruct-v01` from watsonx.ai.\n"
   ]
  },
  {
   "cell_type": "code",
   "execution_count": 11,
   "metadata": {},
   "outputs": [
    {
     "data": {
      "text/plain": [
       "WatsonxLLM(model=<ibm_watsonx_ai.foundation_models.model.Model object at 0x7f9a4c6b8c50>)"
      ]
     },
     "execution_count": 11,
     "metadata": {},
     "output_type": "execute_result"
    }
   ],
   "source": [
    "model_id = 'mistralai/mixtral-8x7b-instruct-v01'\n",
    "\n",
    "parameters = {\n",
    "    GenParams.MAX_NEW_TOKENS: 256,  # this controls the maximum number of tokens in the generated output\n",
    "    GenParams.TEMPERATURE: 0.5, # this randomness or creativity of the model's responses\n",
    "}\n",
    "\n",
    "credentials = {\n",
    "    \"url\": \"https://us-south.ml.cloud.ibm.com\"\n",
    "}\n",
    "\n",
    "project_id = \"skills-network\"\n",
    "\n",
    "model = Model(\n",
    "    model_id=model_id,\n",
    "    params=parameters,\n",
    "    credentials=credentials,\n",
    "    project_id=project_id\n",
    ")\n",
    "\n",
    "mixtral_llm = WatsonxLLM(model=model)\n",
    "mixtral_llm"
   ]
  },
  {
   "cell_type": "markdown",
   "metadata": {},
   "source": [
    "Use the `PromptTemplate` to create a template for a string-based prompt. In this template, you'll define two parameters: `adjective` and `content`. These parameters allow for the reuse of the prompt across different situations. For instance, to adapt the prompt to various contexts, simply pass the relevant values to these parameters.\n"
   ]
  },
  {
   "cell_type": "code",
   "execution_count": 12,
   "metadata": {},
   "outputs": [
    {
     "data": {
      "text/plain": [
       "PromptTemplate(input_variables=['adjective', 'content'], template='Tell me a {adjective} joke about {content}.\\n')"
      ]
     },
     "execution_count": 12,
     "metadata": {},
     "output_type": "execute_result"
    }
   ],
   "source": [
    "template = \"\"\"Tell me a {adjective} joke about {content}.\n",
    "\"\"\"\n",
    "prompt = PromptTemplate.from_template(template)\n",
    "prompt "
   ]
  },
  {
   "cell_type": "markdown",
   "metadata": {},
   "source": [
    "Now, let's take a look at how the prompt has been formatted.\n"
   ]
  },
  {
   "cell_type": "code",
   "execution_count": 13,
   "metadata": {},
   "outputs": [
    {
     "data": {
      "text/plain": [
       "'Tell me a funny joke about chickens.\\n'"
      ]
     },
     "execution_count": 13,
     "metadata": {},
     "output_type": "execute_result"
    }
   ],
   "source": [
    "prompt.format(adjective=\"funny\", content=\"chickens\")"
   ]
  },
  {
   "cell_type": "markdown",
   "metadata": {},
   "source": [
    "From the response, you can see that the prompt is formatted according to the specified context.\n"
   ]
  },
  {
   "cell_type": "markdown",
   "metadata": {},
   "source": [
    "The following code will wrap the formatted prompt into the LLMChain, and then invoke the prompt to get the response from the LLM.\n"
   ]
  },
  {
   "cell_type": "code",
   "execution_count": 14,
   "metadata": {},
   "outputs": [
    {
     "name": "stdout",
     "output_type": "stream",
     "text": [
      "\n",
      "Why did the chicken join a band? Because it already had the drumsticks.\n"
     ]
    }
   ],
   "source": [
    "llm_chain = LLMChain(prompt=prompt, llm=mixtral_llm)\n",
    "response = llm_chain.invoke(input = {\"adjective\": \"funny\", \"content\": \"chickens\"})\n",
    "print(response[\"text\"])"
   ]
  },
  {
   "cell_type": "markdown",
   "metadata": {},
   "source": [
    "From the response, you can see the LLM came up with a funny joke about chickens.\n",
    "\n",
    "To use this prompt in another context, simply replace the variables accordingly\n"
   ]
  },
  {
   "cell_type": "code",
   "execution_count": 15,
   "metadata": {},
   "outputs": [
    {
     "name": "stdout",
     "output_type": "stream",
     "text": [
      "\n",
      "Why are fish so smart? Because they live in schools. Why did the fish blush? Because it saw the ocean's bottom. What did one tidepool say to the other tidepool? Show me your mussels. What did one fish say to the other fish? Do you believe in karma? Because I just ran into a wall. What did the fish say when it hit the wall? Dam. What did the fish say when it hit the concrete wall? Oh, my cod. What did one wall say to the other wall? I'll meet you at the corner and we'll tuna together. What did the fish say when it swam into a wall? Oh, my herring. What did the fish say when it swam into a concrete wall? Oh, my cod. What did the fish say when it swam into a glass wall? Oh, my herring. What did the fish say when it swam into a brick wall? Oh, my cod. What did the fish say when it swam into a window? Oh, my herring. What did the fish say when it swam into a mirror? Oh, my cod. What did the fish say when it swam into a jelly\n"
     ]
    }
   ],
   "source": [
    "response = llm_chain.invoke(input = {\"adjective\": \"sad\", \"content\": \"fish\"})\n",
    "print(response[\"text\"])"
   ]
  },
  {
   "cell_type": "markdown",
   "metadata": {},
   "source": [
    "In the following sections, you will learn how to create agents capable of completing various tasks using prompt templates.\n"
   ]
  },
  {
   "cell_type": "markdown",
   "metadata": {},
   "source": [
    "### Text summarization\n"
   ]
  },
  {
   "cell_type": "markdown",
   "metadata": {},
   "source": [
    "Here is a text summarization agent designed to help summarize the content you provide to the LLM. \n",
    "\n",
    "You can store the content to be summarized in a variable, allowing for repeated use of the prompt.\n"
   ]
  },
  {
   "cell_type": "code",
   "execution_count": 16,
   "metadata": {},
   "outputs": [
    {
     "name": "stdout",
     "output_type": "stream",
     "text": [
      "\n",
      "Technological advancements in the 21st century, such as artificial intelligence, machine learning, and the Internet of Things, have revolutionized various industries, including healthcare, education, and transportation, by improving accuracy, speed, accessibility, and efficiency, contributing to a more interconnected and informed society.\n"
     ]
    }
   ],
   "source": [
    "content = \"\"\"\n",
    "        The rapid advancement of technology in the 21st century has transformed various industries, including healthcare, education, and transportation. \n",
    "        Innovations such as artificial intelligence, machine learning, and the Internet of Things have revolutionized how we approach everyday tasks and complex problems. \n",
    "        For instance, AI-powered diagnostic tools are improving the accuracy and speed of medical diagnoses, while smart transportation systems are making cities more efficient and reducing traffic congestion. \n",
    "        Moreover, online learning platforms are making education more accessible to people around the world, breaking down geographical and financial barriers. \n",
    "        These technological developments are not only enhancing productivity but also contributing to a more interconnected and informed society.\n",
    "\"\"\"\n",
    "\n",
    "template = \"\"\"Summarize the {content} in one sentence.\n",
    "\"\"\"\n",
    "prompt = PromptTemplate.from_template(template)\n",
    "\n",
    "llm_chain = LLMChain(prompt=prompt, llm=mixtral_llm)\n",
    "response = llm_chain.invoke(input = {\"content\": content})\n",
    "print(response[\"text\"])"
   ]
  },
  {
   "cell_type": "markdown",
   "metadata": {},
   "source": [
    "### Question answering\n"
   ]
  },
  {
   "cell_type": "markdown",
   "metadata": {},
   "source": [
    "Here is a Q&A agent. \n",
    "\n",
    "This agent enables the LLM to learn from the provided content and answer questions based on what it has learned. Occasionally, if the LLM does not have sufficient information, it might generate a speculative answer. To manage this, you'll specifically instruct it to respond with \"Unsure about the answer\" if it is uncertain about the correct response.\n"
   ]
  },
  {
   "cell_type": "code",
   "execution_count": 17,
   "metadata": {},
   "outputs": [
    {
     "name": "stdout",
     "output_type": "stream",
     "text": [
      "            The inner planets are Mercury, Venus, Earth, and Mars. These planets are rocky and solid.\n"
     ]
    }
   ],
   "source": [
    "content = \"\"\"\n",
    "        The solar system consists of the Sun, eight planets, their moons, dwarf planets, and smaller objects like asteroids and comets. \n",
    "        The inner planets—Mercury, Venus, Earth, and Mars—are rocky and solid. \n",
    "        The outer planets—Jupiter, Saturn, Uranus, and Neptune—are much larger and gaseous.\n",
    "\"\"\"\n",
    "\n",
    "question = \"Which planets in the solar system are rocky and solid?\"\n",
    "\n",
    "template = \"\"\"\n",
    "            Answer the {question} based on the {content}.\n",
    "            Respond \"Unsure about answer\" if not sure about the answer.\n",
    "            \n",
    "            Answer:\n",
    "            \n",
    "\"\"\"\n",
    "prompt = PromptTemplate.from_template(template)\n",
    "output_key = \"answer\"\n",
    "\n",
    "llm_chain = LLMChain(prompt=prompt, llm=mixtral_llm, output_key=output_key)\n",
    "response = llm_chain.invoke(input = {\"question\":question ,\"content\": content})\n",
    "print(response[\"answer\"])"
   ]
  },
  {
   "cell_type": "markdown",
   "metadata": {},
   "source": [
    "### Text classification\n"
   ]
  },
  {
   "cell_type": "markdown",
   "metadata": {},
   "source": [
    "Here is a text classification agent designed to categorize text into predefined categories. This example employs zero-shot learning, where the agent classifies text without prior exposure to related examples.\n",
    "\n",
    "Can you revise it to the one-shot learning or few-shot learning in the exercises?\n"
   ]
  },
  {
   "cell_type": "code",
   "execution_count": 18,
   "metadata": {},
   "outputs": [
    {
     "name": "stdout",
     "output_type": "stream",
     "text": [
      "        Music\n",
      "\n",
      "\n",
      "\n",
      "\n",
      "\n",
      "\n",
      "\n",
      "\n",
      "\n",
      "\n",
      "\n",
      "\n",
      "\n",
      "\n",
      "\n",
      "\n",
      "\n",
      "\n",
      "\n",
      "\n",
      "\n",
      "\n",
      "\n",
      "\n",
      "\n",
      "\n",
      "\n",
      "\n",
      "\n",
      "\n",
      "\n",
      "\n",
      "\n",
      "\n",
      "\n",
      "\n",
      "\n",
      "\n",
      "\n",
      "\n",
      "\n",
      "\n",
      "\n",
      "\n",
      "\n",
      "\n",
      "\n",
      "\n",
      "\n",
      "\n",
      "\n",
      "\n",
      "\n",
      "\n",
      "\n",
      "\n",
      "\n",
      "\n",
      "\n",
      "\n",
      "\n",
      "\n",
      "\n",
      "\n",
      "\n",
      "\n",
      "\n",
      "\n",
      "\n",
      "\n",
      "\n",
      "\n",
      "\n",
      "\n",
      "\n",
      "\n",
      "\n",
      "\n",
      "\n",
      "\n",
      "\n",
      "\n",
      "\n",
      "\n",
      "\n",
      "\n",
      "\n",
      "\n",
      "\n",
      "\n",
      "\n",
      "\n",
      "\n",
      "\n",
      "\n",
      "\n",
      "\n",
      "\n",
      "\n",
      "\n",
      "\n",
      "\n",
      "\n",
      "\n",
      "\n",
      "\n",
      "\n",
      "\n",
      "\n",
      "\n",
      "\n",
      "\n",
      "\n",
      "\n",
      "\n",
      "\n",
      "\n",
      "\n",
      "\n",
      "\n",
      "\n",
      "\n",
      "\n",
      "\n",
      "\n",
      "\n",
      "\n",
      "\n",
      "\n",
      "\n",
      "\n",
      "\n",
      "\n",
      "\n",
      "\n",
      "\n",
      "\n",
      "\n",
      "\n",
      "\n",
      "\n",
      "\n",
      "\n",
      "\n",
      "\n",
      "\n",
      "\n",
      "\n",
      "\n",
      "\n",
      "\n",
      "\n",
      "\n",
      "\n",
      "\n",
      "\n",
      "\n",
      "\n",
      "\n",
      "\n",
      "\n",
      "\n",
      "\n",
      "\n",
      "\n",
      "\n",
      "\n",
      "\n",
      "\n",
      "\n",
      "\n",
      "\n",
      "\n",
      "\n",
      "\n",
      "\n",
      "\n",
      "\n",
      "\n",
      "\n",
      "\n",
      "\n",
      "\n",
      "\n",
      "\n",
      "\n",
      "\n",
      "\n",
      "\n",
      "\n",
      "\n",
      "\n",
      "\n",
      "\n",
      "\n",
      "\n",
      "\n",
      "\n",
      "\n",
      "\n",
      "\n",
      "\n",
      "\n",
      "\n",
      "\n",
      "\n",
      "\n",
      "\n",
      "\n",
      "\n",
      "\n",
      "\n",
      "\n",
      "\n",
      "\n",
      "\n",
      "\n",
      "\n",
      "\n",
      "\n",
      "\n",
      "\n",
      "\n",
      "\n",
      "\n",
      "\n",
      "\n",
      "\n",
      "\n",
      "\n",
      "\n",
      "\n",
      "\n",
      "\n",
      "\n",
      "\n",
      "\n",
      "\n",
      "\n",
      "\n",
      "\n",
      "\n",
      "\n",
      "\n",
      "\n",
      "\n",
      "\n",
      "\n",
      "\n",
      "\n",
      "\n",
      "\n",
      "\n",
      "\n"
     ]
    }
   ],
   "source": [
    "text = \"\"\"\n",
    "        The concert last night was an exhilarating experience with outstanding performances by all artists.\n",
    "\"\"\"\n",
    "\n",
    "categories = \"Entertainment, Food and Dining, Technology, Literature, Music.\"\n",
    "\n",
    "template = \"\"\"\n",
    "            Classify the {text} into one of the {categories}.\n",
    "            \n",
    "            Category:\n",
    "            \n",
    "\"\"\"\n",
    "prompt = PromptTemplate.from_template(template)\n",
    "output_key = \"category\"\n",
    "\n",
    "llm_chain = LLMChain(prompt=prompt, llm=mixtral_llm, output_key=output_key)\n",
    "response = llm_chain.invoke(input = {\"text\":text ,\"categories\": categories})\n",
    "print(response[\"category\"])"
   ]
  },
  {
   "cell_type": "markdown",
   "metadata": {},
   "source": [
    "### Code generation\n"
   ]
  },
  {
   "cell_type": "markdown",
   "metadata": {},
   "source": [
    "Here is an example of an SQL code generation agent. This agent is designed to generate SQL queries based on given descriptions. It interprets the requirements from your input and translates them into executable SQL code.\n"
   ]
  },
  {
   "cell_type": "code",
   "execution_count": 19,
   "metadata": {},
   "outputs": [
    {
     "name": "stdout",
     "output_type": "stream",
     "text": [
      "            SELECT customers.name, customers.email \n",
      "            FROM customers \n",
      "            INNER JOIN purchases ON customers.id = purchases.customer_id \n",
      "            WHERE purchases.purchase_date >= NOW() - INTERVAL 30 DAY;\n"
     ]
    }
   ],
   "source": [
    "description = \"\"\"\n",
    "        Retrieve the names and email addresses of all customers from the 'customers' table who have made a purchase in the last 30 days. \n",
    "        The table 'purchases' contains a column 'purchase_date'\n",
    "\"\"\"\n",
    "\n",
    "template = \"\"\"\n",
    "            Generate an SQL query based on the {description}\n",
    "            \n",
    "            SQL Query:\n",
    "            \n",
    "\"\"\"\n",
    "prompt = PromptTemplate.from_template(template)\n",
    "output_key = \"query\"\n",
    "\n",
    "llm_chain = LLMChain(prompt=prompt, llm=mixtral_llm, output_key=output_key)\n",
    "response = llm_chain.invoke(input = {\"description\":description})\n",
    "print(response[\"query\"])"
   ]
  },
  {
   "cell_type": "markdown",
   "metadata": {},
   "source": [
    "### Role playing\n"
   ]
  },
  {
   "cell_type": "markdown",
   "metadata": {},
   "source": [
    "You can also configure the LLM to assume specific roles as defined by us, enabling it to follow predetermined rules and behave like a task-oriented chatbot.\n",
    "\n",
    "For example, the code below configures the LLM to act as a game master. In this role, the LLM answers questions about games while maintaining an engaging and immersive tone, enhancing the user experience.\n"
   ]
  },
  {
   "cell_type": "markdown",
   "metadata": {},
   "source": [
    "Run the following code to create the prompt template and create a LLMChian to wrap the prompt.\n"
   ]
  },
  {
   "cell_type": "code",
   "execution_count": 20,
   "metadata": {},
   "outputs": [],
   "source": [
    "role = \"\"\"\n",
    "        game master\n",
    "\"\"\"\n",
    "\n",
    "tone = \"engaging and immersive\"\n",
    "\n",
    "template = \"\"\"\n",
    "            You are an expert {role}. I have this question {question}. I would like our conversation to be {tone}.\n",
    "            \n",
    "            Answer:\n",
    "            \n",
    "\"\"\"\n",
    "prompt = PromptTemplate.from_template(template)\n",
    "output_key = \"answer\"\n",
    "\n",
    "llm_chain = LLMChain(prompt=prompt, llm=mixtral_llm, output_key=output_key)"
   ]
  },
  {
   "cell_type": "markdown",
   "metadata": {},
   "source": [
    "The following code will create a game master chatbot that takes your questions as input and provides responses from the model.\n",
    "\n",
    "Run the code below to launch the bot.\n"
   ]
  },
  {
   "cell_type": "markdown",
   "metadata": {},
   "source": [
    "You can test the bot by asking the question, \"Who are you?\" The bot will respond with \"I am a game master,\" indicating it has assumed the role that you predefined.\n",
    "\n",
    "The function is written within a while loop, allowing continuous interaction. To exit the loop and terminate the conversation, type \"quit,\" \"exit,\" or \"bye\" into the input box.\n"
   ]
  },
  {
   "cell_type": "code",
   "execution_count": 21,
   "metadata": {},
   "outputs": [
    {
     "name": "stdin",
     "output_type": "stream",
     "text": [
      "Question:  Hi\n"
     ]
    },
    {
     "name": "stdout",
     "output_type": "stream",
     "text": [
      "Answer:              Of course! I'm thrilled to help create an engaging and immersive conversation for you. Let's dive into your question and explore the depths of your curiosity together. What's on your mind?\n"
     ]
    },
    {
     "name": "stdin",
     "output_type": "stream",
     "text": [
      "Question:  Tell me about yourself\n"
     ]
    },
    {
     "name": "stdout",
     "output_type": "stream",
     "text": [
      "Answer:              Greetings, traveler! I am the Game Master, your guide through the enchanting realms of imagination and adventure. I weave the tales, create the challenges, and breathe life into the characters you will encounter on your journey. My purpose is to ensure that your experience is engaging, immersive, and filled with wonder. With countless stories and intricate worlds at my fingertips, I am eager to tailor your adventure to suit your desires and preferences. So, tell me, what kind of quest do you seek today?\n"
     ]
    },
    {
     "name": "stdin",
     "output_type": "stream",
     "text": [
      "Question:  Bye\n"
     ]
    },
    {
     "name": "stdout",
     "output_type": "stream",
     "text": [
      "Answer: Goodbye!\n"
     ]
    }
   ],
   "source": [
    "while True:\n",
    "    query = input(\"Question: \")\n",
    "    \n",
    "    if query.lower() in [\"quit\",\"exit\",\"bye\"]:\n",
    "        print(\"Answer: Goodbye!\")\n",
    "        break\n",
    "        \n",
    "    response = llm_chain.invoke(input = {\"role\": role, \"question\": query, \"tone\": tone})\n",
    "    \n",
    "    print(\"Answer: \", response[\"answer\"])"
   ]
  },
  {
   "cell_type": "markdown",
   "metadata": {},
   "source": [
    "Great! You finish the lab. Now let's take some exercises.\n"
   ]
  },
  {
   "cell_type": "markdown",
   "metadata": {},
   "source": [
    "# Exercises\n"
   ]
  },
  {
   "cell_type": "markdown",
   "metadata": {},
   "source": [
    "### Exercise 1: Change parameters for the LLM\n"
   ]
  },
  {
   "cell_type": "markdown",
   "metadata": {},
   "source": [
    "Experiment with changing the parameters of the LLM to observe how different settings impact the responses. Adjusting parameters such as `max_new_tokens`, `temperature`, or `top_p` can significantly alter the behavior of the model. Try different configurations to see how each variation influences the output.\n"
   ]
  },
  {
   "cell_type": "code",
   "execution_count": 22,
   "metadata": {},
   "outputs": [
    {
     "name": "stdout",
     "output_type": "stream",
     "text": [
      " howling outside, and the rain is coming down in sheets. It’s the perfect weather for a cozy night in with a good book. But what to read? If you’re looking for something to take your mind off the storm, here are five great books to curl up with on a rainy night.\n",
      "\n",
      "1. The Secret History by Donna Tartt\n",
      "\n",
      "This gripping novel tells the story of a group of classics students at an elite New England college who become embroiled in a murder conspiracy. With its richly drawn characters and atmospheric setting, The Secret History is the perfect\n"
     ]
    }
   ],
   "source": [
    "# TODO\n",
    "\n",
    "params = {\n",
    "    \"max_new_tokens\": 128,\n",
    "    \"min_new_tokens\": 100,\n",
    "    \"temperature\": 1,\n",
    "    \"top_p\": 0.1,\n",
    "    \"top_k\": 1\n",
    "}\n",
    "\n",
    "prompt = \"The wind is\"\n",
    "\n",
    "response = llm_model(prompt, params)\n",
    "print(response)"
   ]
  },
  {
   "cell_type": "markdown",
   "metadata": {},
   "source": [
    "<details>\n",
    "    <summary>Click here for Solution</summary>\n",
    "\n",
    "```python\n",
    "params = {\n",
    "    \"max_new_tokens\": 128,\n",
    "    \"min_new_tokens\": 100,\n",
    "    \"temperature\": 1,\n",
    "    \"top_p\": 0.1,\n",
    "    \"top_k\": 1\n",
    "}\n",
    "\n",
    "prompt = \"The wind is\"\n",
    "\n",
    "response = llm_model(prompt, params)\n",
    "print(response)\n",
    "\n",
    "```\n",
    "\n",
    "</details>\n"
   ]
  },
  {
   "cell_type": "markdown",
   "metadata": {},
   "source": [
    "### Exercise 2: Observe how LLM thinks\n"
   ]
  },
  {
   "cell_type": "markdown",
   "metadata": {},
   "source": [
    "You can set `verbose=True` in the `LLMChain()` to observe the thought process of the LLM, gaining insights into how it formulates its responses. Can you make it any agent you created before to observe it?\n"
   ]
  },
  {
   "cell_type": "code",
   "execution_count": 23,
   "metadata": {},
   "outputs": [
    {
     "name": "stdout",
     "output_type": "stream",
     "text": [
      "\n",
      "\n",
      "\u001b[1m> Entering new LLMChain chain...\u001b[0m\n",
      "Prompt after formatting:\n",
      "\u001b[32;1m\u001b[1;3m\n",
      "            Answer the Which planets in the solar system are rocky and solid? based on the \n",
      "        The solar system consists of the Sun, eight planets, their moons, dwarf planets, and smaller objects like asteroids and comets. \n",
      "        The inner planets—Mercury, Venus, Earth, and Mars—are rocky and solid. \n",
      "        The outer planets—Jupiter, Saturn, Uranus, and Neptune—are much larger and gaseous.\n",
      ".\n",
      "            Respond \"Unsure about answer\" if not sure about the answer.\n",
      "            \n",
      "            Answer:\n",
      "            \n",
      "\u001b[0m\n",
      "\n",
      "\u001b[1m> Finished chain.\u001b[0m\n",
      "            The inner planets—Mercury, Venus, Earth, and Mars—are rocky and solid.\n"
     ]
    }
   ],
   "source": [
    "# TODO\n",
    "\n",
    "content = \"\"\"\n",
    "        The solar system consists of the Sun, eight planets, their moons, dwarf planets, and smaller objects like asteroids and comets. \n",
    "        The inner planets—Mercury, Venus, Earth, and Mars—are rocky and solid. \n",
    "        The outer planets—Jupiter, Saturn, Uranus, and Neptune—are much larger and gaseous.\n",
    "\"\"\"\n",
    "\n",
    "question = \"Which planets in the solar system are rocky and solid?\"\n",
    "\n",
    "template = \"\"\"\n",
    "            Answer the {question} based on the {content}.\n",
    "            Respond \"Unsure about answer\" if not sure about the answer.\n",
    "            \n",
    "            Answer:\n",
    "            \n",
    "\"\"\"\n",
    "prompt = PromptTemplate.from_template(template)\n",
    "output_key = \"answer\"\n",
    "\n",
    "llm_chain = LLMChain(prompt=prompt, llm=mixtral_llm, output_key=output_key, verbose=True)\n",
    "response = llm_chain.invoke(input = {\"question\":question ,\"content\": content})\n",
    "print(response[\"answer\"])"
   ]
  },
  {
   "cell_type": "markdown",
   "metadata": {},
   "source": [
    "<details>\n",
    "    <summary>Click here for Solution</summary>\n",
    "\n",
    "```python\n",
    "content = \"\"\"\n",
    "        The solar system consists of the Sun, eight planets, their moons, dwarf planets, and smaller objects like asteroids and comets. \n",
    "        The inner planets—Mercury, Venus, Earth, and Mars—are rocky and solid. \n",
    "        The outer planets—Jupiter, Saturn, Uranus, and Neptune—are much larger and gaseous.\n",
    "\"\"\"\n",
    "\n",
    "question = \"Which planets in the solar system are rocky and solid?\"\n",
    "\n",
    "template = \"\"\"\n",
    "            Answer the {question} based on the {content}.\n",
    "            Respond \"Unsure about answer\" if not sure about the answer.\n",
    "            \n",
    "            Answer:\n",
    "            \n",
    "\"\"\"\n",
    "prompt = PromptTemplate.from_template(template)\n",
    "output_key = \"answer\"\n",
    "\n",
    "llm_chain = LLMChain(prompt=prompt, llm=mixtral_llm, output_key=output_key, verbose=True)\n",
    "response = llm_chain.invoke(input = {\"question\":question ,\"content\": content})\n",
    "print(response[\"answer\"])\n",
    "\n",
    "```\n",
    "\n",
    "</details>\n"
   ]
  },
  {
   "cell_type": "markdown",
   "metadata": {},
   "source": [
    "### Exercise 3: Revise the text classification agent to one-shot learning\n"
   ]
  },
  {
   "cell_type": "markdown",
   "metadata": {},
   "source": [
    "You were using zero-shot learning when you created the text classification agent. Can you revise it to use one-shot learning?\n"
   ]
  },
  {
   "cell_type": "code",
   "execution_count": 24,
   "metadata": {},
   "outputs": [
    {
     "name": "stdout",
     "output_type": "stream",
     "text": [
      "\n",
      "           Entertainment\n"
     ]
    }
   ],
   "source": [
    "# TODO\n",
    "\n",
    "example_text = \"\"\"\n",
    "               Last week's book fair was a delightful gathering of authors and readers, featuring discussions and book signings.\n",
    "               \"\"\"\n",
    "\n",
    "example_category = \"Literature\"\n",
    "\n",
    "text = \"\"\"\n",
    "       The concert last night was an exhilarating experience with outstanding performances by all artists.\n",
    "       \"\"\"\n",
    "\n",
    "categories = \"Entertainment, Food and Dining, Technology, Literature, Music.\"\n",
    "\n",
    "template = \"\"\"\n",
    "           Example:\n",
    "           Text: {example_text}\n",
    "           Category: {example_category}\n",
    "\n",
    "           Now, classify the following text into one of the specified categories: {categories}\n",
    "           \n",
    "           Text: {text}\n",
    "           \n",
    "           Category:\n",
    "           \n",
    "           \"\"\"\n",
    "prompt = PromptTemplate.from_template(template)\n",
    "output_key = \"category\"\n",
    "\n",
    "llm_chain = LLMChain(prompt=prompt, llm=mixtral_llm, output_key=output_key)\n",
    "response = llm_chain.invoke(input = {\"example_text\": example_text, \"example_category\":example_category ,\"categories\": categories, \"text\":text})\n",
    "print(response[\"category\"])"
   ]
  },
  {
   "cell_type": "markdown",
   "metadata": {},
   "source": [
    "<details>\n",
    "    <summary>Click here for Solution</summary>\n",
    "\n",
    "```python\n",
    "example_text = \"\"\"\n",
    "               Last week's book fair was a delightful gathering of authors and readers, featuring discussions and book signings.\n",
    "               \"\"\"\n",
    "\n",
    "example_category = \"Literature\"\n",
    "\n",
    "text = \"\"\"\n",
    "       The concert last night was an exhilarating experience with outstanding performances by all artists.\n",
    "       \"\"\"\n",
    "\n",
    "categories = \"Entertainment, Food and Dining, Technology, Literature, Music.\"\n",
    "\n",
    "template = \"\"\"\n",
    "           Example:\n",
    "           Text: {example_text}\n",
    "           Category: {example_category}\n",
    "\n",
    "           Now, classify the following text into one of the specified categories: {categories}\n",
    "           \n",
    "           Text: {text}\n",
    "           \n",
    "           Category:\n",
    "           \n",
    "           \"\"\"\n",
    "prompt = PromptTemplate.from_template(template)\n",
    "output_key = \"category\"\n",
    "\n",
    "llm_chain = LLMChain(prompt=prompt, llm=mixtral_llm, output_key=output_key)\n",
    "response = llm_chain.invoke(input = {\"example_text\": example_text, \"example_category\":example_category ,\"categories\": categories, \"text\":text})\n",
    "print(response[\"category\"])\n",
    "\n",
    "```\n",
    "\n",
    "</details>\n"
   ]
  },
  {
   "cell_type": "markdown",
   "metadata": {},
   "source": [
    "## Authors\n"
   ]
  },
  {
   "cell_type": "markdown",
   "metadata": {},
   "source": [
    "[Kang Wang](https://author.skills.network/instructors/kang_wang)\n",
    "\n",
    "Kang Wang is a Data Scientist in IBM. He is also a PhD Candidate in the University of Waterloo.\n"
   ]
  },
  {
   "cell_type": "markdown",
   "metadata": {},
   "source": [
    "```{## Change Log}\n",
    "```\n"
   ]
  },
  {
   "cell_type": "markdown",
   "metadata": {},
   "source": [
    "```{|Date (YYYY-MM-DD)|Version|Changed By|Change Description||-|-|-|-||2024-05-27|0.1|Kang Wang|Create the lab|}\n",
    "```\n"
   ]
  },
  {
   "cell_type": "markdown",
   "metadata": {},
   "source": [
    "© Copyright IBM Corporation. All rights reserved.\n"
   ]
  }
 ],
 "metadata": {
  "kernelspec": {
   "display_name": "Python 3 (ipykernel)",
   "language": "python",
   "name": "python3"
  },
  "language_info": {
   "codemirror_mode": {
    "name": "ipython",
    "version": 3
   },
   "file_extension": ".py",
   "mimetype": "text/x-python",
   "name": "python",
   "nbconvert_exporter": "python",
   "pygments_lexer": "ipython3",
   "version": "3.11.9"
  },
  "prev_pub_hash": "cfd2f7250046d22b503ff9e62f02826c4fb8caf3fc3d9074cf6bd60d4ec454b1"
 },
 "nbformat": 4,
 "nbformat_minor": 4
}
